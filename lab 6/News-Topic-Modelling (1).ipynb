{
 "cells": [
  {
   "cell_type": "markdown",
   "metadata": {},
   "source": [
    "# Topic Modelling for News"
   ]
  },
  {
   "cell_type": "markdown",
   "metadata": {},
   "source": [
    "![](https://images.unsplash.com/photo-1495020689067-958852a7765e?ixlib=rb-1.2.1&ixid=eyJhcHBfaWQiOjEyMDd9&auto=format&fit=crop&w=1050&q=80)\n",
    "\n",
    "Photo by [Roman Kraft](https://unsplash.com/photos/_Zua2hyvTBk)"
   ]
  },
  {
   "cell_type": "markdown",
   "metadata": {},
   "source": [
    "This exercise is about modelling the main topics of a database of News headlines."
   ]
  },
  {
   "cell_type": "markdown",
   "metadata": {},
   "source": [
    "Begin by importing the needed libraries:"
   ]
  },
  {
   "cell_type": "code",
   "execution_count": 7,
   "metadata": {},
   "outputs": [],
   "source": [
    "# TODO: import needed libraries\n",
    "import nltk\n",
    "import numpy as np\n",
    "import pandas as pd"
   ]
  },
  {
   "cell_type": "markdown",
   "metadata": {},
   "source": [
    "Load the data in the file `random_headlines.csv`"
   ]
  },
  {
   "cell_type": "code",
   "execution_count": 8,
   "metadata": {
    "scrolled": true
   },
   "outputs": [
    {
     "name": "stdout",
     "output_type": "stream",
     "text": [
      "(20000, 2)\n"
     ]
    },
    {
     "data": {
      "text/html": [
       "<div>\n",
       "<style scoped>\n",
       "    .dataframe tbody tr th:only-of-type {\n",
       "        vertical-align: middle;\n",
       "    }\n",
       "\n",
       "    .dataframe tbody tr th {\n",
       "        vertical-align: top;\n",
       "    }\n",
       "\n",
       "    .dataframe thead th {\n",
       "        text-align: right;\n",
       "    }\n",
       "</style>\n",
       "<table border=\"1\" class=\"dataframe\">\n",
       "  <thead>\n",
       "    <tr style=\"text-align: right;\">\n",
       "      <th></th>\n",
       "      <th>publish_date</th>\n",
       "      <th>headline_text</th>\n",
       "    </tr>\n",
       "  </thead>\n",
       "  <tbody>\n",
       "    <tr>\n",
       "      <th>0</th>\n",
       "      <td>20120305</td>\n",
       "      <td>ute driver hurt in intersection crash</td>\n",
       "    </tr>\n",
       "    <tr>\n",
       "      <th>1</th>\n",
       "      <td>20081128</td>\n",
       "      <td>6yo dies in cycling accident</td>\n",
       "    </tr>\n",
       "    <tr>\n",
       "      <th>2</th>\n",
       "      <td>20090325</td>\n",
       "      <td>bumper olive harvest expected</td>\n",
       "    </tr>\n",
       "    <tr>\n",
       "      <th>3</th>\n",
       "      <td>20100201</td>\n",
       "      <td>replica replaces northernmost sign</td>\n",
       "    </tr>\n",
       "    <tr>\n",
       "      <th>4</th>\n",
       "      <td>20080225</td>\n",
       "      <td>woods targets perfect season</td>\n",
       "    </tr>\n",
       "  </tbody>\n",
       "</table>\n",
       "</div>"
      ],
      "text/plain": [
       "   publish_date                          headline_text\n",
       "0      20120305  ute driver hurt in intersection crash\n",
       "1      20081128           6yo dies in cycling accident\n",
       "2      20090325          bumper olive harvest expected\n",
       "3      20100201     replica replaces northernmost sign\n",
       "4      20080225           woods targets perfect season"
      ]
     },
     "execution_count": 8,
     "metadata": {},
     "output_type": "execute_result"
    }
   ],
   "source": [
    "# TODO: load the dataset\n",
    "df=pd.read_csv('random_headlines.csv')\n",
    "print(df.shape)\n",
    "df.head()"
   ]
  },
  {
   "cell_type": "markdown",
   "metadata": {},
   "source": [
    "This is always a good idea to perform some EDA (exploratory data analytics) on a dataset..."
   ]
  },
  {
   "cell_type": "code",
   "execution_count": 11,
   "metadata": {},
   "outputs": [
    {
     "name": "stdout",
     "output_type": "stream",
     "text": [
      "<class 'pandas.core.frame.DataFrame'>\n",
      "RangeIndex: 20000 entries, 0 to 19999\n",
      "Data columns (total 2 columns):\n",
      " #   Column         Non-Null Count  Dtype \n",
      "---  ------         --------------  ----- \n",
      " 0   publish_date   20000 non-null  int64 \n",
      " 1   headline_text  20000 non-null  object\n",
      "dtypes: int64(1), object(1)\n",
      "memory usage: 312.6+ KB\n"
     ]
    }
   ],
   "source": [
    "# TODO: Perform a short EDA\n",
    "df.info()"
   ]
  },
  {
   "cell_type": "markdown",
   "metadata": {},
   "source": [
    "Now perform all the needed preprocessing on those headlines: case lowering, tokenization, punctuation removal, stopwords removal, stemming/lemmatization."
   ]
  },
  {
   "cell_type": "code",
   "execution_count": 13,
   "metadata": {},
   "outputs": [
    {
     "data": {
      "text/html": [
       "<div>\n",
       "<style scoped>\n",
       "    .dataframe tbody tr th:only-of-type {\n",
       "        vertical-align: middle;\n",
       "    }\n",
       "\n",
       "    .dataframe tbody tr th {\n",
       "        vertical-align: top;\n",
       "    }\n",
       "\n",
       "    .dataframe thead th {\n",
       "        text-align: right;\n",
       "    }\n",
       "</style>\n",
       "<table border=\"1\" class=\"dataframe\">\n",
       "  <thead>\n",
       "    <tr style=\"text-align: right;\">\n",
       "      <th></th>\n",
       "      <th>publish_date</th>\n",
       "      <th>headline_text</th>\n",
       "    </tr>\n",
       "  </thead>\n",
       "  <tbody>\n",
       "    <tr>\n",
       "      <th>0</th>\n",
       "      <td>20120305</td>\n",
       "      <td>[ute, driver, hurt, intersect, crash]</td>\n",
       "    </tr>\n",
       "    <tr>\n",
       "      <th>1</th>\n",
       "      <td>20081128</td>\n",
       "      <td>[6yo, die, cycl, accid]</td>\n",
       "    </tr>\n",
       "    <tr>\n",
       "      <th>2</th>\n",
       "      <td>20090325</td>\n",
       "      <td>[bumper, oliv, harvest, expect]</td>\n",
       "    </tr>\n",
       "    <tr>\n",
       "      <th>3</th>\n",
       "      <td>20100201</td>\n",
       "      <td>[replica, replac, northernmost, sign]</td>\n",
       "    </tr>\n",
       "    <tr>\n",
       "      <th>4</th>\n",
       "      <td>20080225</td>\n",
       "      <td>[wood, target, perfect, season]</td>\n",
       "    </tr>\n",
       "  </tbody>\n",
       "</table>\n",
       "</div>"
      ],
      "text/plain": [
       "   publish_date                          headline_text\n",
       "0      20120305  [ute, driver, hurt, intersect, crash]\n",
       "1      20081128                [6yo, die, cycl, accid]\n",
       "2      20090325        [bumper, oliv, harvest, expect]\n",
       "3      20100201  [replica, replac, northernmost, sign]\n",
       "4      20080225        [wood, target, perfect, season]"
      ]
     },
     "execution_count": 13,
     "metadata": {},
     "output_type": "execute_result"
    }
   ],
   "source": [
    "# TODO: Preprocess the input data\n",
    "import string\n",
    "# Tokenize\n",
    "df['headline_text'] = df['headline_text'].apply(nltk.word_tokenize)\n",
    "# Remove punctuation\n",
    "df['headline_text']=df['headline_text'].apply(lambda tokens: [token for token in tokens if token not in string.punctuation])\n",
    "# Remove stop words\n",
    "df['headline_text']=df['headline_text'].apply(lambda tokens: [token for token in tokens if token.lower() not in nltk.corpus.stopwords.words('english')])\n",
    "# Stem\n",
    "stemmer = nltk.stem.PorterStemmer()\n",
    "df['headline_text']=df['headline_text'].apply(lambda tokens: [stemmer.stem(token) for token in tokens])\n",
    "df.head()"
   ]
  },
  {
   "cell_type": "markdown",
   "metadata": {},
   "source": [
    "Now use Gensim to compute a BOW"
   ]
  },
  {
   "cell_type": "code",
   "execution_count": 14,
   "metadata": {},
   "outputs": [],
   "source": [
    "# TODO: Compute the BOW using Gensim\n",
    "from gensim import corpora\n",
    "dic=corpora.Dictionary(df['headline_text'])\n",
    "bow=[dic.doc2bow(doc) for doc in df['headline_text']]"
   ]
  },
  {
   "cell_type": "markdown",
   "metadata": {},
   "source": [
    "Compute the TF-IDF using Gensim"
   ]
  },
  {
   "cell_type": "code",
   "execution_count": 15,
   "metadata": {},
   "outputs": [
    {
     "name": "stdout",
     "output_type": "stream",
     "text": [
      "20000\n",
      "[(0, 0.30725466582280214), (1, 0.35289437816784547), (2, 0.42129048115131124), (3, 0.5992666854471201), (4, 0.49442279315598586)]\n"
     ]
    }
   ],
   "source": [
    "# TODO: Compute TF-IDF\n",
    "from gensim.models import TfidfModel\n",
    "tfidf_model=TfidfModel(bow)\n",
    "tfidf=tfidf_model[bow]\n",
    "print(len(tfidf))\n",
    "print(tfidf[0])"
   ]
  },
  {
   "cell_type": "markdown",
   "metadata": {},
   "source": [
    "Finally compute the **LSA** (also called LSI) using Gensim, for a given number of Topics that you choose yourself"
   ]
  },
  {
   "cell_type": "code",
   "execution_count": 16,
   "metadata": {},
   "outputs": [
    {
     "name": "stderr",
     "output_type": "stream",
     "text": [
      "/opt/conda/envs/anaconda-panel-2023.05-py310/lib/python3.11/site-packages/gensim/models/lsimodel.py:963: DeprecationWarning: Please use `csc_matvecs` from the `scipy.sparse` namespace, the `scipy.sparse.sparsetools` namespace is deprecated.\n",
      "  sparsetools.csc_matvecs(\n",
      "/opt/conda/envs/anaconda-panel-2023.05-py310/lib/python3.11/site-packages/scipy/linalg/_special_matrices.py:154: DeprecationWarning: 'tri'/'tril/'triu' are deprecated as of SciPy 1.11.0 and will be removed in v1.13.0. Please use numpy.(tri/tril/triu) instead.\n",
      "  out = (1 - tri(m.shape[0], m.shape[1], k - 1, m.dtype.char)) * m\n",
      "/opt/conda/envs/anaconda-panel-2023.05-py310/lib/python3.11/site-packages/scipy/linalg/_special_matrices.py:154: DeprecationWarning: 'tri'/'tril/'triu' are deprecated as of SciPy 1.11.0 and will be removed in v1.13.0. Please use numpy.(tri/tril/triu) instead.\n",
      "  out = (1 - tri(m.shape[0], m.shape[1], k - 1, m.dtype.char)) * m\n",
      "/opt/conda/envs/anaconda-panel-2023.05-py310/lib/python3.11/site-packages/scipy/linalg/_special_matrices.py:154: DeprecationWarning: 'tri'/'tril/'triu' are deprecated as of SciPy 1.11.0 and will be removed in v1.13.0. Please use numpy.(tri/tril/triu) instead.\n",
      "  out = (1 - tri(m.shape[0], m.shape[1], k - 1, m.dtype.char)) * m\n"
     ]
    },
    {
     "name": "stdout",
     "output_type": "stream",
     "text": [
      "[(0, '0.457*\"man\" + 0.388*\"polic\" + 0.314*\"charg\" + 0.149*\"court\" + 0.141*\"murder\" + 0.127*\"face\" + 0.110*\"crash\" + 0.110*\"new\" + 0.109*\"miss\" + 0.102*\"death\"'), (1, '0.433*\"second\" + 0.408*\"90\" + 0.335*\"abc\" + 0.295*\"news\" + 0.287*\"weather\" + 0.240*\"busi\" + -0.236*\"man\" + 0.185*\"sport\" + -0.167*\"charg\" + 0.104*\"plan\"'), (2, '0.378*\"man\" + 0.273*\"second\" + 0.269*\"charg\" + 0.262*\"90\" + -0.212*\"plan\" + -0.195*\"govt\" + -0.194*\"council\" + -0.176*\"new\" + 0.169*\"abc\" + 0.159*\"weather\"'), (3, '-0.770*\"polic\" + 0.244*\"man\" + 0.219*\"charg\" + -0.163*\"investig\" + -0.147*\"probe\" + 0.140*\"council\" + 0.133*\"plan\" + 0.114*\"face\" + 0.113*\"court\" + 0.107*\"govt\"'), (4, '0.717*\"abc\" + -0.439*\"second\" + -0.383*\"90\" + 0.147*\"sport\" + 0.137*\"market\" + 0.124*\"entertain\" + 0.114*\"busi\" + 0.099*\"weather\" + 0.082*\"analysi\" + -0.074*\"council\"')]\n"
     ]
    }
   ],
   "source": [
    "# TODO: Compute LSA\n",
    "from gensim.models import LsiModel\n",
    "lsi = LsiModel(tfidf, id2word=dic, num_topics=5)\n",
    "print(lsi.print_topics())"
   ]
  },
  {
   "cell_type": "markdown",
   "metadata": {},
   "source": [
    "For each of the topic, show the most significant words."
   ]
  },
  {
   "cell_type": "code",
   "execution_count": 17,
   "metadata": {},
   "outputs": [
    {
     "name": "stdout",
     "output_type": "stream",
     "text": [
      "[(0, '0.457*\"man\" + 0.388*\"polic\" + 0.314*\"charg\" + 0.149*\"court\"'), (1, '0.433*\"second\" + 0.408*\"90\" + 0.335*\"abc\" + 0.295*\"news\"'), (2, '0.378*\"man\" + 0.273*\"second\" + 0.269*\"charg\" + 0.262*\"90\"'), (3, '-0.770*\"polic\" + 0.244*\"man\" + 0.219*\"charg\" + -0.163*\"investig\"'), (4, '0.717*\"abc\" + -0.439*\"second\" + -0.383*\"90\" + 0.147*\"sport\"')]\n"
     ]
    }
   ],
   "source": [
    "# TODO: Print the 3 or 4 most significant words of each topic\n",
    "print(lsi.show_topics(num_words=4))"
   ]
  },
  {
   "cell_type": "markdown",
   "metadata": {},
   "source": [
    "What do you think about those results?"
   ]
  },
  {
   "cell_type": "markdown",
   "metadata": {},
   "source": [
    "Now let's try to use LDA instead of LSA using Gensim"
   ]
  },
  {
   "cell_type": "code",
   "execution_count": 18,
   "metadata": {},
   "outputs": [
    {
     "name": "stdout",
     "output_type": "stream",
     "text": [
      "[(0, '0.004*\"murder\" + 0.004*\"us\" + 0.003*\"fall\" + 0.003*\"court\" + 0.003*\"guilti\" + 0.003*\"man\" + 0.003*\"call\" + 0.003*\"world\" + 0.003*\"australia\" + 0.002*\"media\"'), (1, '0.003*\"busi\" + 0.003*\"rate\" + 0.003*\"plan\" + 0.003*\"new\" + 0.003*\"offer\" + 0.002*\"escap\" + 0.002*\"defenc\" + 0.002*\"sale\" + 0.002*\"council\" + 0.002*\"critic\"'), (2, '0.005*\"second\" + 0.004*\"weather\" + 0.004*\"polic\" + 0.004*\"abc\" + 0.003*\"assault\" + 0.003*\"90\" + 0.003*\"man\" + 0.003*\"review\" + 0.003*\"news\" + 0.003*\"sport\"'), (3, '0.004*\"polic\" + 0.004*\"interview\" + 0.003*\"alleg\" + 0.003*\"man\" + 0.003*\"arrest\" + 0.003*\"charg\" + 0.003*\"start\" + 0.003*\"action\" + 0.003*\"say\" + 0.003*\"hit\"'), (4, '0.004*\"crash\" + 0.004*\"polic\" + 0.004*\"road\" + 0.003*\"new\" + 0.003*\"urg\" + 0.003*\"state\" + 0.003*\"miss\" + 0.003*\"nsw\" + 0.003*\"probe\" + 0.003*\"govt\"')]\n"
     ]
    }
   ],
   "source": [
    "# TODO: Compute LDA\n",
    "from gensim.models import LdaModel\n",
    "lda = LdaModel(tfidf, id2word=dic, num_topics=5)\n",
    "print(lda.print_topics())"
   ]
  },
  {
   "cell_type": "code",
   "execution_count": 19,
   "metadata": {
    "scrolled": true
   },
   "outputs": [
    {
     "name": "stdout",
     "output_type": "stream",
     "text": [
      "[(0, '0.004*\"murder\" + 0.004*\"us\" + 0.003*\"fall\"'), (1, '0.003*\"busi\" + 0.003*\"rate\" + 0.003*\"plan\"'), (2, '0.005*\"second\" + 0.004*\"weather\" + 0.004*\"polic\"'), (3, '0.004*\"polic\" + 0.004*\"interview\" + 0.003*\"alleg\"'), (4, '0.004*\"crash\" + 0.004*\"polic\" + 0.004*\"road\"')]\n"
     ]
    }
   ],
   "source": [
    "# TODO: print the most frequent words of each topic\n",
    "print(lda.show_topics(num_words=3))"
   ]
  },
  {
   "cell_type": "markdown",
   "metadata": {},
   "source": [
    "Now, how does it work with LDA?"
   ]
  },
  {
   "cell_type": "markdown",
   "metadata": {},
   "source": [
    "Let's make some visualization of the LDA results using pyLDAvis."
   ]
  },
  {
   "cell_type": "code",
   "execution_count": 20,
   "metadata": {},
   "outputs": [
    {
     "name": "stdout",
     "output_type": "stream",
     "text": [
      "Looking in links: /usr/share/pip-wheels\n",
      "Requirement already satisfied: pyLDAvis in /home/ac1f8293-8d9a-4f1f-9500-36198ca29f92/.local/lib/python3.11/site-packages (3.4.1)\n",
      "Requirement already satisfied: numpy>=1.24.2 in /opt/conda/envs/anaconda-panel-2023.05-py310/lib/python3.11/site-packages (from pyLDAvis) (1.24.3)\n",
      "Requirement already satisfied: scipy in /opt/conda/envs/anaconda-panel-2023.05-py310/lib/python3.11/site-packages (from pyLDAvis) (1.11.1)\n",
      "Requirement already satisfied: pandas>=2.0.0 in /opt/conda/envs/anaconda-panel-2023.05-py310/lib/python3.11/site-packages (from pyLDAvis) (2.0.3)\n",
      "Requirement already satisfied: joblib>=1.2.0 in /opt/conda/envs/anaconda-panel-2023.05-py310/lib/python3.11/site-packages (from pyLDAvis) (1.2.0)\n",
      "Requirement already satisfied: jinja2 in /opt/conda/envs/anaconda-panel-2023.05-py310/lib/python3.11/site-packages (from pyLDAvis) (3.1.2)\n",
      "Requirement already satisfied: numexpr in /opt/conda/envs/anaconda-panel-2023.05-py310/lib/python3.11/site-packages (from pyLDAvis) (2.8.4)\n",
      "Requirement already satisfied: funcy in /home/ac1f8293-8d9a-4f1f-9500-36198ca29f92/.local/lib/python3.11/site-packages (from pyLDAvis) (2.0)\n",
      "Requirement already satisfied: scikit-learn>=1.0.0 in /opt/conda/envs/anaconda-panel-2023.05-py310/lib/python3.11/site-packages (from pyLDAvis) (1.3.0)\n",
      "Requirement already satisfied: gensim in /opt/conda/envs/anaconda-panel-2023.05-py310/lib/python3.11/site-packages (from pyLDAvis) (4.3.0)\n",
      "Requirement already satisfied: setuptools in /opt/conda/envs/anaconda-panel-2023.05-py310/lib/python3.11/site-packages (from pyLDAvis) (68.0.0)\n",
      "Requirement already satisfied: python-dateutil>=2.8.2 in /opt/conda/envs/anaconda-panel-2023.05-py310/lib/python3.11/site-packages (from pandas>=2.0.0->pyLDAvis) (2.8.2)\n",
      "Requirement already satisfied: pytz>=2020.1 in /opt/conda/envs/anaconda-panel-2023.05-py310/lib/python3.11/site-packages (from pandas>=2.0.0->pyLDAvis) (2023.3.post1)\n",
      "Requirement already satisfied: tzdata>=2022.1 in /opt/conda/envs/anaconda-panel-2023.05-py310/lib/python3.11/site-packages (from pandas>=2.0.0->pyLDAvis) (2023.3)\n",
      "Requirement already satisfied: threadpoolctl>=2.0.0 in /opt/conda/envs/anaconda-panel-2023.05-py310/lib/python3.11/site-packages (from scikit-learn>=1.0.0->pyLDAvis) (2.2.0)\n",
      "Requirement already satisfied: smart-open>=1.8.1 in /opt/conda/envs/anaconda-panel-2023.05-py310/lib/python3.11/site-packages (from gensim->pyLDAvis) (5.2.1)\n",
      "Requirement already satisfied: FuzzyTM>=0.4.0 in /home/ac1f8293-8d9a-4f1f-9500-36198ca29f92/.local/lib/python3.11/site-packages (from gensim->pyLDAvis) (2.0.5)\n",
      "Requirement already satisfied: MarkupSafe>=2.0 in /opt/conda/envs/anaconda-panel-2023.05-py310/lib/python3.11/site-packages (from jinja2->pyLDAvis) (2.1.1)\n",
      "Requirement already satisfied: pyfume in /home/ac1f8293-8d9a-4f1f-9500-36198ca29f92/.local/lib/python3.11/site-packages (from FuzzyTM>=0.4.0->gensim->pyLDAvis) (0.3.1)\n",
      "Requirement already satisfied: six>=1.5 in /opt/conda/envs/anaconda-panel-2023.05-py310/lib/python3.11/site-packages (from python-dateutil>=2.8.2->pandas>=2.0.0->pyLDAvis) (1.16.0)\n",
      "Requirement already satisfied: simpful in /home/ac1f8293-8d9a-4f1f-9500-36198ca29f92/.local/lib/python3.11/site-packages (from pyfume->FuzzyTM>=0.4.0->gensim->pyLDAvis) (2.12.0)\n",
      "Requirement already satisfied: fst-pso in /home/ac1f8293-8d9a-4f1f-9500-36198ca29f92/.local/lib/python3.11/site-packages (from pyfume->FuzzyTM>=0.4.0->gensim->pyLDAvis) (1.8.1)\n",
      "Requirement already satisfied: typing-extensions in /opt/conda/envs/anaconda-panel-2023.05-py310/lib/python3.11/site-packages (from pyfume->FuzzyTM>=0.4.0->gensim->pyLDAvis) (4.7.1)\n",
      "Requirement already satisfied: miniful in /home/ac1f8293-8d9a-4f1f-9500-36198ca29f92/.local/lib/python3.11/site-packages (from fst-pso->pyfume->FuzzyTM>=0.4.0->gensim->pyLDAvis) (0.0.6)\n"
     ]
    }
   ],
   "source": [
    "!pip install pyLDAvis --user"
   ]
  },
  {
   "cell_type": "code",
   "execution_count": 21,
   "metadata": {
    "scrolled": true
   },
   "outputs": [
    {
     "data": {
      "text/html": [
       "\n",
       "<link rel=\"stylesheet\" type=\"text/css\" href=\"https://cdn.jsdelivr.net/gh/bmabey/pyLDAvis@3.4.0/pyLDAvis/js/ldavis.v1.0.0.css\">\n",
       "\n",
       "\n",
       "<div id=\"ldavis_el9201396328640332809777977821\" style=\"background-color:white;\"></div>\n",
       "<script type=\"text/javascript\">\n",
       "\n",
       "var ldavis_el9201396328640332809777977821_data = {\"mdsDat\": {\"x\": [0.035769087647317836, -0.06351352010351517, 0.1603240843788761, -0.0025975587705744443, -0.1299820931521043], \"y\": [-0.10185696486294876, 0.16771470610602926, 0.04672402329839505, -0.06146050331846685, -0.051121261223008745], \"topics\": [1, 2, 3, 4, 5], \"cluster\": [1, 1, 1, 1, 1], \"Freq\": [21.627087823164597, 19.92801952870128, 19.82630308647398, 19.3887466177205, 19.22984294393964]}, \"tinfo\": {\"Term\": [\"second\", \"weather\", \"alleg\", \"90\", \"assault\", \"road\", \"murder\", \"state\", \"sport\", \"start\", \"fall\", \"abc\", \"boy\", \"news\", \"control\", \"review\", \"crash\", \"guilti\", \"probe\", \"found\", \"export\", \"arrest\", \"media\", \"darwin\", \"defenc\", \"escap\", \"approv\", \"critic\", \"busi\", \"safeti\", \"author\", \"convict\", \"plane\", \"hill\", \"rape\", \"se\", \"state\", \"grain\", \"figur\", \"unit\", \"chanc\", \"drum\", \"refus\", \"ad\", \"problem\", \"updat\", \"kangaroo\", \"mix\", \"merger\", \"explor\", \"cat\", \"ask\", \"gp\", \"pilbara\", \"fuel\", \"grower\", \"appoint\", \"survivor\", \"john\", \"transport\", \"ambul\", \"match\", \"wild\", \"toll\", \"doubt\", \"survey\", \"western\", \"remain\", \"issu\", \"road\", \"safeti\", \"crash\", \"tourism\", \"river\", \"probe\", \"fatal\", \"flight\", \"park\", \"urg\", \"two\", \"nsw\", \"miss\", \"polic\", \"qld\", \"new\", \"found\", \"ban\", \"region\", \"govt\", \"continu\", \"fund\", \"warn\", \"plan\", \"kill\", \"man\", \"council\", \"farmer\", \"boost\", \"flood\", \"concern\", \"export\", \"media\", \"higher\", \"theft\", \"stock\", \"aim\", \"oil\", \"result\", \"lift\", \"bulldog\", \"candid\", \"fiji\", \"front\", \"militari\", \"phone\", \"jump\", \"held\", \"neglect\", \"packag\", \"anoth\", \"troop\", \"member\", \"form\", \"video\", \"plead\", \"roar\", \"korea\", \"cruis\", \"arriv\", \"scientist\", \"wait\", \"bay\", \"aid\", \"guilti\", \"chines\", \"coal\", \"murder\", \"pressur\", \"fall\", \"world\", \"us\", \"live\", \"miner\", \"un\", \"gold\", \"budget\", \"australia\", \"court\", \"market\", \"call\", \"face\", \"man\", \"charg\", \"cup\", \"polic\", \"indigen\", \"say\", \"new\", \"win\", \"price\", \"council\", \"sport\", \"control\", \"boy\", \"evid\", \"worri\", \"earli\", \"safe\", \"uni\", \"revamp\", \"tri\", \"dairi\", \"educ\", \"edg\", \"third\", \"low\", \"hawk\", \"zealand\", \"cross\", \"ash\", \"prompt\", \"policeman\", \"step\", \"podcast\", \"lion\", \"brother\", \"coalit\", \"insur\", \"scam\", \"africa\", \"destroy\", \"drink\", \"90\", \"liber\", \"assault\", \"howard\", \"weather\", \"second\", \"titl\", \"uk\", \"lose\", \"review\", \"keep\", \"abc\", \"parti\", \"news\", \"brisban\", \"rural\", \"appeal\", \"nation\", \"senat\", \"polic\", \"man\", \"fire\", \"sex\", \"charg\", \"found\", \"home\", \"new\", \"kill\", \"chang\", \"alleg\", \"start\", \"suspend\", \"mental\", \"celebr\", \"gener\", \"link\", \"darwin\", \"condit\", \"month\", \"holiday\", \"disput\", \"drown\", \"finish\", \"criticis\", \"option\", \"beatti\", \"expert\", \"point\", \"campbel\", \"airport\", \"class\", \"forest\", \"territori\", \"palestinian\", \"music\", \"histori\", \"approv\", \"latest\", \"angri\", \"crisi\", \"way\", \"cash\", \"asylum\", \"cancer\", \"2014\", \"action\", \"readi\", \"arrest\", \"town\", \"nrl\", \"png\", \"make\", \"interview\", \"stand\", \"seek\", \"train\", \"group\", \"polic\", \"man\", \"woman\", \"charg\", \"hit\", \"say\", \"plan\", \"court\", \"call\", \"take\", \"kill\", \"slam\", \"critic\", \"collaps\", \"tasmania\", \"level\", \"quarter\", \"major\", \"tiger\", \"marin\", \"econom\", \"defenc\", \"reach\", \"robberi\", \"await\", \"gain\", \"tip\", \"pair\", \"dam\", \"confid\", \"vow\", \"escap\", \"docker\", \"eas\", \"traffic\", \"keen\", \"3\", \"spring\", \"crew\", \"term\", \"grand\", \"michael\", \"mark\", \"emerg\", \"offer\", \"wast\", \"victoria\", \"clash\", \"doctor\", \"sale\", \"busi\", \"violenc\", \"hunter\", \"rate\", \"land\", \"ahead\", \"power\", \"final\", \"look\", \"begin\", \"resid\", \"plan\", \"new\", \"council\", \"labor\", \"job\", \"rise\", \"polic\", \"coast\", \"market\"], \"Freq\": [47.0, 38.0, 29.0, 32.0, 34.0, 44.0, 59.0, 30.0, 27.0, 25.0, 38.0, 48.0, 24.0, 46.0, 23.0, 39.0, 62.0, 29.0, 38.0, 40.0, 22.0, 39.0, 22.0, 21.0, 21.0, 22.0, 21.0, 20.0, 46.0, 30.0, 21.160855782968586, 18.559291594891196, 17.737959538467397, 19.695386404752462, 14.677870221082529, 14.573948620893338, 29.49525395288551, 15.669773420468015, 15.487547164340878, 18.630897961189003, 13.473800258198745, 15.81630631061162, 13.440283167411211, 12.621142994714528, 13.101941497928586, 12.495320395575456, 12.35681586490233, 12.22640101292908, 12.69242604143916, 11.505871080260867, 11.203720019967415, 11.068086344125074, 10.949943142296467, 10.43533879046918, 13.16353945109398, 19.214335935250347, 10.412489015806287, 10.23106436924161, 15.18080496610833, 10.05450178012045, 11.804276093085798, 15.552230032192403, 11.544013870734975, 15.973808653446525, 19.246413696489707, 12.881681711045172, 15.489226196331233, 15.216443702232946, 18.14605127393977, 35.31000708051208, 24.71310995890726, 41.75631259426888, 17.2167773056686, 20.25571706338745, 25.974903614553728, 19.980447238365873, 15.341209380836258, 20.560600731521777, 30.642690590394768, 25.409754379383337, 26.862993358572776, 27.699782320384536, 37.74164676477413, 25.338878269362876, 31.249715284766825, 21.307885916317833, 20.89248938828185, 19.550111116259004, 25.862881186713864, 22.62118326507613, 22.44746477330384, 22.638818675450253, 25.173436758663886, 23.514381458351355, 25.03613519978199, 23.262216718965966, 21.22002995423024, 20.361863994156156, 20.416065733361386, 19.891090627500713, 21.841981505347118, 21.879387794723524, 17.856833041248855, 16.778350093649653, 17.791677144912228, 16.045945179633737, 14.737450329947341, 16.35682460581002, 14.281283034899594, 15.535894624010302, 12.871515269333392, 12.746808461688088, 17.350615366699333, 12.945271776860265, 13.057283129048203, 12.682156972911711, 12.063698856793529, 11.674334230626362, 12.132415397944465, 13.268664825218632, 14.195828586662813, 11.156351840435333, 12.012471183882294, 10.680144874760717, 17.721152544074858, 10.695640768118778, 16.065051028524827, 10.169661823041833, 12.15683036755118, 12.046930130508484, 15.64237084802181, 12.98973977208017, 18.925277148361783, 24.910242356321316, 12.773540007768048, 18.466555969006947, 38.49249356071268, 16.863428547656184, 26.832797422399967, 24.08821829294998, 36.0577316223732, 17.892045003642178, 17.087179015772456, 16.190997795284634, 20.348567351230567, 20.34301373153462, 24.057655920409385, 26.52034005322461, 21.85701716533045, 24.217562362768334, 21.698440057763687, 24.810482663122258, 21.672950525411512, 17.02008664641939, 20.72675796307424, 17.265112635050475, 18.399008502812354, 18.64078101131449, 17.554192614325533, 17.170929162293444, 17.218134929709, 26.53950289946592, 22.915909110764844, 23.734542791006465, 14.351607252883563, 14.209371845822023, 14.522645419305583, 14.571581799071375, 13.647658247603093, 13.746543871636513, 13.853848229173085, 16.38421371894966, 18.55433468275946, 12.871821414269014, 12.710862833838018, 12.561768361517327, 12.314995321648247, 12.103190125574637, 13.178129627934197, 11.14278812109422, 12.865538792581038, 11.3433526675299, 14.245540613724108, 13.067221476014707, 10.5130582697288, 10.468179480348768, 10.44648312551025, 10.925352379570949, 10.07503576623911, 9.850705187249254, 9.656944514666977, 16.886951211871484, 30.14151480439225, 20.108291638324793, 30.587410259706, 17.209101403113312, 34.537342654107555, 39.90191867532849, 16.380354408799377, 14.403071194620132, 17.6490484513628, 29.114511082053482, 20.339490481141425, 30.80378509976317, 14.78732193796241, 28.97817808921808, 19.95751076193949, 23.482549052978577, 20.610292223773534, 24.336809807695467, 15.947845935569427, 32.80028718790056, 30.07784027516483, 23.05405319935933, 18.00706487983815, 22.61078240200796, 18.305615634806127, 18.699960273022402, 21.478900699859516, 18.193601610645477, 17.395133234764323, 29.289874857479408, 24.446491495332562, 17.756335678650085, 18.061435085121648, 16.639137114903686, 16.05960616465923, 18.30454708785675, 21.015954768472977, 16.42248205332928, 14.236593982328813, 12.562265411492225, 12.778393733059394, 12.16591704444928, 11.99250064077482, 11.745798410134569, 11.81656947835611, 12.376323190415958, 11.392661714311886, 11.019830739356966, 11.078059998070218, 17.80390020135334, 10.40797974191295, 10.129008438912553, 10.513573621998436, 10.778500856987916, 9.909351858852855, 9.835436342694345, 20.559242196501472, 10.452023002670261, 9.743303818239848, 13.505673756075153, 16.40722858226568, 11.99572205072423, 15.749796083322144, 14.08695384296605, 11.892147174082062, 22.697902578541452, 17.700061454954223, 28.25039793123417, 12.582475436058498, 14.052298948220164, 17.45047664712064, 20.135181507939016, 30.543951859616154, 15.95958353466931, 19.11109498516912, 17.6970429448558, 20.94438609394066, 32.08251644198284, 29.06004829720399, 20.187605631999403, 25.671518836045266, 21.6754292595129, 22.26404672475894, 21.16299818954577, 18.35093019369367, 17.716465358177846, 16.888342110208328, 16.412472993685032, 18.752724328751718, 19.660854152354403, 15.643771043127515, 16.43327614458447, 14.858639623597512, 14.37809668725652, 14.383841357874537, 19.647620096659747, 13.15469696098093, 13.152102689538763, 20.72344671918696, 14.498815066752593, 12.308666085009735, 12.423122327440405, 11.845210445897868, 12.483705554385969, 13.231424744558943, 13.184777424351617, 17.831100724915647, 14.727089144732483, 20.906921288181607, 10.963995816764518, 13.590576198496244, 10.754103693447252, 10.317339211607194, 10.3647508357052, 10.125199557906404, 10.583523159090836, 11.530223068009457, 9.977033647768106, 10.835753356165638, 13.853771331154462, 15.263228993401501, 21.40875469749295, 16.62553376477423, 11.528995819998222, 17.620945903114556, 18.575243250448448, 20.540725549617623, 26.202837469031618, 15.021125079391936, 17.092230012729978, 22.855519509703488, 19.507598830835107, 17.49224347234022, 19.656760021266845, 19.45082423624751, 16.74625710084547, 16.945741407628038, 17.28161281932314, 22.354713102766656, 21.71421454659624, 19.953526037528025, 16.68093142278056, 16.80796844429894, 16.763928282629212, 17.249363358659576, 16.065031357846642, 16.144983889228005], \"Total\": [47.0, 38.0, 29.0, 32.0, 34.0, 44.0, 59.0, 30.0, 27.0, 25.0, 38.0, 48.0, 24.0, 46.0, 23.0, 39.0, 62.0, 29.0, 38.0, 40.0, 22.0, 39.0, 22.0, 21.0, 21.0, 22.0, 21.0, 20.0, 46.0, 30.0, 21.885175604623118, 19.21059818763099, 18.376865461790807, 20.46286150527308, 15.318788967290198, 15.215697496523314, 30.79797554809369, 16.38894500159384, 16.20035029135713, 19.511349856853798, 14.123593734895483, 16.580525443292835, 14.108504768252038, 13.26153334890624, 13.767442855907001, 13.136204373880673, 12.997738948359508, 12.869018490566065, 13.36016229615785, 12.150711552320079, 11.844489805842937, 11.708950052961479, 11.591630390458828, 11.078268115682919, 13.974887500775928, 20.41619924323257, 11.078565296796333, 10.885968785422799, 16.163933873889217, 10.708993321293768, 12.575221373748068, 16.67402040404716, 12.326496411201123, 17.41152404542645, 21.307663704958912, 13.858964845810254, 17.0575594756119, 16.737292185170986, 20.473206514060085, 44.10603857288303, 30.117990046055255, 62.51625641788387, 19.97412275785354, 24.735861738526125, 38.17017078218802, 26.269670841437364, 17.732055751029115, 28.914587208359077, 57.734736327499185, 42.328170864261466, 51.59720365855301, 59.40737800309337, 140.60057171639133, 56.20774616701894, 107.36558812454103, 40.10780210605951, 38.935723564568164, 32.239191865578306, 76.38811755933477, 50.66476720373789, 56.382118689036176, 58.40802355470875, 89.51985392985495, 68.06495950268761, 115.41602751778882, 82.04459052979966, 48.40274553342074, 43.216519662091045, 46.004338089795965, 48.124638630248654, 22.535294449808497, 22.630408470178683, 18.50332484785013, 17.438303865861364, 18.499690235463987, 16.725023972287783, 15.38485291610672, 17.094755294744335, 14.927860225147796, 16.248846943697284, 13.516364693691413, 13.39116593230376, 18.22819656728671, 13.61040741244354, 13.733405900826035, 13.36478399103886, 12.737748934762488, 12.32912127853408, 12.826724206689237, 14.037941621388836, 15.033828453411418, 11.815379208846876, 12.734613295245166, 11.32729093901338, 18.79612362830509, 11.347108337172575, 17.06043913220679, 10.812716083012017, 12.929127811913077, 12.832844227334835, 16.899140635963647, 14.015164237800134, 21.18812822724933, 29.02718412158477, 13.779753885801277, 22.230072083825245, 59.421856757426255, 20.31094738219119, 38.90182099258435, 34.63176464013704, 65.31202637251917, 24.123960223931892, 23.506472008227497, 21.295325520125893, 33.74808787375001, 34.17470323269902, 56.2398556908211, 74.06345208734051, 56.178030659799305, 78.7613923194582, 67.9524830489496, 115.41602751778882, 92.05444804116269, 27.837819966466643, 140.60057171639133, 33.55792366230598, 82.78192510520257, 107.36558812454103, 62.27695853662016, 37.054600516438676, 82.04459052979966, 27.28090488807062, 23.589781337658128, 24.45003066215078, 14.998820866903094, 14.856385462979697, 15.204334969822758, 15.257303881731916, 14.29347626526828, 14.415800990074414, 14.53921340605546, 17.197605480082615, 19.4860564625692, 13.522473740647815, 13.358979804799722, 13.215490088014999, 12.964817474372719, 12.751410529230899, 13.884778473022338, 11.786527938348465, 13.619906368180022, 12.030953427447306, 15.10913149522907, 13.861070379739546, 11.155863852090066, 11.112397131689447, 11.090809530402723, 11.600314534589577, 10.725995122751854, 10.497720021536294, 10.314205465325047, 18.065773867647042, 32.6360308723119, 21.613885400916573, 34.07531537816169, 18.688051397087953, 38.908713982432324, 47.90952629761286, 18.135949371050625, 15.747263987600482, 20.54133459347676, 39.107561612025044, 26.159453472803392, 48.080336766306516, 16.63899802277775, 46.6140995298105, 27.536262087120665, 37.363144125343815, 31.76086983147498, 44.566464101966936, 20.595494973461115, 140.60057171639133, 115.41602751778882, 69.98028415918292, 34.276816131881034, 92.05444804116269, 40.10780210605951, 47.75427847779052, 107.36558812454103, 68.06495950268761, 55.04801596522404, 29.939671781374717, 25.296609339175504, 18.423331767065232, 18.747609755783017, 17.28371504145589, 16.73076543197399, 19.080834159416877, 21.90874320151488, 17.141493965108758, 14.889998348787781, 13.210937164360024, 13.443369342566363, 12.809153712166246, 12.635752417834844, 12.38664483151119, 12.465675702278428, 13.06719239268296, 12.032271011338777, 11.660989876087559, 11.729076700581501, 18.876105455062827, 11.053815606998253, 10.77011679694551, 11.18078906139539, 11.470494455010778, 10.55582139766249, 10.480931634741452, 21.91195361098471, 11.14096332496688, 10.388856125933923, 14.4146054870539, 17.617717390001175, 12.814454451247695, 16.924067401349667, 15.383427435217657, 12.80566549995018, 26.999957830642256, 20.465927663194073, 39.78314374913246, 14.004147265986091, 16.745249767354814, 24.341030327633806, 31.66079419220659, 80.32104786317632, 24.00494240926819, 35.85509861084554, 30.52500931804864, 45.79008303766926, 140.60057171639133, 115.41602751778882, 46.892214661784415, 92.05444804116269, 57.4160547185343, 82.78192510520257, 89.51985392985495, 74.06345208734051, 78.7613923194582, 61.25944544456491, 68.06495950268761, 19.400764926074, 20.37030391109834, 16.28936083122461, 17.129270882433296, 15.503852647377705, 15.016560559445358, 15.035226576914159, 20.56802449319314, 13.797585713594247, 13.79928173101621, 21.74542906166626, 15.233480036923245, 12.949401134372852, 13.071910217949197, 12.485021883335152, 13.170580801621265, 13.970048171658043, 13.926295255106622, 18.841969591843533, 15.565150396696053, 22.148934738843117, 11.617946347208628, 14.419361367501102, 11.413760595239518, 10.96079360691453, 11.011988589219612, 10.762625546642301, 11.253114086307244, 12.267066581687605, 10.630674529978636, 11.582093221554414, 15.003090064606528, 16.652723826408604, 24.45050614036939, 19.01629323820678, 12.476858519418409, 21.86945273542885, 23.910220229382496, 29.45345678994564, 46.15524101193819, 18.872857833329714, 24.31360434759449, 42.527142560925014, 31.77873039941585, 26.626604208867448, 36.72943388221363, 37.82913942416209, 26.298460163905254, 29.961674423699975, 32.522660312911896, 89.51985392985495, 107.36558812454103, 82.04459052979966, 34.197455455664446, 38.96608796536178, 46.903118393023526, 140.60057171639133, 41.12858024715386, 56.178030659799305], \"Category\": [\"Default\", \"Default\", \"Default\", \"Default\", \"Default\", \"Default\", \"Default\", \"Default\", \"Default\", \"Default\", \"Default\", \"Default\", \"Default\", \"Default\", \"Default\", \"Default\", \"Default\", \"Default\", \"Default\", \"Default\", \"Default\", \"Default\", \"Default\", \"Default\", \"Default\", \"Default\", \"Default\", \"Default\", \"Default\", \"Default\", \"Topic1\", \"Topic1\", \"Topic1\", \"Topic1\", \"Topic1\", \"Topic1\", \"Topic1\", \"Topic1\", \"Topic1\", \"Topic1\", \"Topic1\", \"Topic1\", \"Topic1\", \"Topic1\", \"Topic1\", \"Topic1\", \"Topic1\", \"Topic1\", \"Topic1\", \"Topic1\", \"Topic1\", \"Topic1\", \"Topic1\", \"Topic1\", \"Topic1\", \"Topic1\", \"Topic1\", \"Topic1\", \"Topic1\", \"Topic1\", \"Topic1\", \"Topic1\", \"Topic1\", \"Topic1\", \"Topic1\", \"Topic1\", \"Topic1\", \"Topic1\", \"Topic1\", \"Topic1\", \"Topic1\", \"Topic1\", \"Topic1\", \"Topic1\", \"Topic1\", \"Topic1\", \"Topic1\", \"Topic1\", \"Topic1\", \"Topic1\", \"Topic1\", \"Topic1\", \"Topic1\", \"Topic1\", \"Topic1\", \"Topic1\", \"Topic1\", \"Topic1\", \"Topic1\", \"Topic1\", \"Topic1\", \"Topic1\", \"Topic1\", \"Topic1\", \"Topic1\", \"Topic1\", \"Topic1\", \"Topic1\", \"Topic1\", \"Topic1\", \"Topic2\", \"Topic2\", \"Topic2\", \"Topic2\", \"Topic2\", \"Topic2\", \"Topic2\", \"Topic2\", \"Topic2\", \"Topic2\", \"Topic2\", \"Topic2\", \"Topic2\", \"Topic2\", \"Topic2\", \"Topic2\", \"Topic2\", \"Topic2\", \"Topic2\", \"Topic2\", \"Topic2\", \"Topic2\", \"Topic2\", \"Topic2\", \"Topic2\", \"Topic2\", \"Topic2\", \"Topic2\", \"Topic2\", \"Topic2\", \"Topic2\", \"Topic2\", \"Topic2\", \"Topic2\", \"Topic2\", \"Topic2\", \"Topic2\", \"Topic2\", \"Topic2\", \"Topic2\", \"Topic2\", \"Topic2\", \"Topic2\", \"Topic2\", \"Topic2\", \"Topic2\", \"Topic2\", \"Topic2\", \"Topic2\", \"Topic2\", \"Topic2\", \"Topic2\", \"Topic2\", \"Topic2\", \"Topic2\", \"Topic2\", \"Topic2\", \"Topic2\", \"Topic2\", \"Topic2\", \"Topic2\", \"Topic3\", \"Topic3\", \"Topic3\", \"Topic3\", \"Topic3\", \"Topic3\", \"Topic3\", \"Topic3\", \"Topic3\", \"Topic3\", \"Topic3\", \"Topic3\", \"Topic3\", \"Topic3\", \"Topic3\", \"Topic3\", \"Topic3\", \"Topic3\", \"Topic3\", \"Topic3\", \"Topic3\", \"Topic3\", \"Topic3\", \"Topic3\", \"Topic3\", \"Topic3\", \"Topic3\", \"Topic3\", \"Topic3\", \"Topic3\", \"Topic3\", \"Topic3\", \"Topic3\", \"Topic3\", \"Topic3\", \"Topic3\", \"Topic3\", \"Topic3\", \"Topic3\", \"Topic3\", \"Topic3\", \"Topic3\", \"Topic3\", \"Topic3\", \"Topic3\", \"Topic3\", \"Topic3\", \"Topic3\", \"Topic3\", \"Topic3\", \"Topic3\", \"Topic3\", \"Topic3\", \"Topic3\", \"Topic3\", \"Topic3\", \"Topic3\", \"Topic3\", \"Topic3\", \"Topic3\", \"Topic4\", \"Topic4\", \"Topic4\", \"Topic4\", \"Topic4\", \"Topic4\", \"Topic4\", \"Topic4\", \"Topic4\", \"Topic4\", \"Topic4\", \"Topic4\", \"Topic4\", \"Topic4\", \"Topic4\", \"Topic4\", \"Topic4\", \"Topic4\", \"Topic4\", \"Topic4\", \"Topic4\", \"Topic4\", \"Topic4\", \"Topic4\", \"Topic4\", \"Topic4\", \"Topic4\", \"Topic4\", \"Topic4\", \"Topic4\", \"Topic4\", \"Topic4\", \"Topic4\", \"Topic4\", \"Topic4\", \"Topic4\", \"Topic4\", \"Topic4\", \"Topic4\", \"Topic4\", \"Topic4\", \"Topic4\", \"Topic4\", \"Topic4\", \"Topic4\", \"Topic4\", \"Topic4\", \"Topic4\", \"Topic4\", \"Topic4\", \"Topic4\", \"Topic4\", \"Topic4\", \"Topic4\", \"Topic4\", \"Topic4\", \"Topic4\", \"Topic4\", \"Topic4\", \"Topic5\", \"Topic5\", \"Topic5\", \"Topic5\", \"Topic5\", \"Topic5\", \"Topic5\", \"Topic5\", \"Topic5\", \"Topic5\", \"Topic5\", \"Topic5\", \"Topic5\", \"Topic5\", \"Topic5\", \"Topic5\", \"Topic5\", \"Topic5\", \"Topic5\", \"Topic5\", \"Topic5\", \"Topic5\", \"Topic5\", \"Topic5\", \"Topic5\", \"Topic5\", \"Topic5\", \"Topic5\", \"Topic5\", \"Topic5\", \"Topic5\", \"Topic5\", \"Topic5\", \"Topic5\", \"Topic5\", \"Topic5\", \"Topic5\", \"Topic5\", \"Topic5\", \"Topic5\", \"Topic5\", \"Topic5\", \"Topic5\", \"Topic5\", \"Topic5\", \"Topic5\", \"Topic5\", \"Topic5\", \"Topic5\", \"Topic5\", \"Topic5\", \"Topic5\", \"Topic5\", \"Topic5\", \"Topic5\", \"Topic5\", \"Topic5\", \"Topic5\", \"Topic5\"], \"logprob\": [30.0, 29.0, 28.0, 27.0, 26.0, 25.0, 24.0, 23.0, 22.0, 21.0, 20.0, 19.0, 18.0, 17.0, 16.0, 15.0, 14.0, 13.0, 12.0, 11.0, 10.0, 9.0, 8.0, 7.0, 6.0, 5.0, 4.0, 3.0, 2.0, 1.0, -6.115, -6.2461, -6.2914, -6.1867, -6.4808, -6.4879, -5.7829, -6.4154, -6.4271, -6.2423, -6.5664, -6.4061, -6.5689, -6.6317, -6.5943, -6.6418, -6.6529, -6.6635, -6.6261, -6.7242, -6.7509, -6.763, -6.7738, -6.8219, -6.5897, -6.2115, -6.8241, -6.8417, -6.4471, -6.8591, -6.6986, -6.4229, -6.7209, -6.3962, -6.2098, -6.6113, -6.427, -6.4447, -6.2687, -5.6029, -5.9598, -5.4353, -6.3212, -6.1587, -5.91, -6.1724, -6.4366, -6.1437, -5.7447, -5.932, -5.8764, -5.8457, -5.5363, -5.9348, -5.7251, -6.108, -6.1277, -6.1941, -5.9143, -6.0482, -6.0559, -6.0474, -5.9413, -6.0095, -5.9468, -6.0203, -6.1122, -6.1534, -6.1508, -6.1768, -6.0015, -5.9997, -6.2029, -6.2652, -6.2066, -6.3098, -6.3949, -6.2906, -6.4263, -6.3421, -6.5303, -6.54, -6.2317, -6.5246, -6.5159, -6.5451, -6.5951, -6.6279, -6.5894, -6.4999, -6.4323, -6.6733, -6.5993, -6.7169, -6.2105, -6.7155, -6.3086, -6.7659, -6.5874, -6.5965, -6.3353, -6.5211, -6.1448, -5.87, -6.5379, -6.1693, -5.4348, -6.2601, -5.7957, -5.9036, -5.5002, -6.2009, -6.247, -6.3008, -6.0723, -6.0725, -5.9048, -5.8074, -6.0008, -5.8982, -6.008, -5.874, -6.0092, -6.2509, -6.0539, -6.2366, -6.173, -6.1599, -6.22, -6.2421, -6.2393, -5.8015, -5.9483, -5.9132, -6.4163, -6.4263, -6.4045, -6.4011, -6.4666, -6.4594, -6.4516, -6.2839, -6.1595, -6.5251, -6.5377, -6.5495, -6.5694, -6.5867, -6.5016, -6.6694, -6.5256, -6.6515, -6.4237, -6.5101, -6.7276, -6.7318, -6.7339, -6.6891, -6.7701, -6.7926, -6.8125, -6.2536, -5.6743, -6.079, -5.6596, -6.2347, -5.5381, -5.3937, -6.2841, -6.4127, -6.2095, -5.7089, -6.0676, -5.6525, -6.3864, -5.7136, -6.0866, -5.9239, -6.0544, -5.8882, -6.3108, -5.5897, -5.6764, -5.9423, -6.1894, -5.9617, -6.173, -6.1516, -6.0131, -6.1791, -6.224, -5.6806, -5.8614, -6.1811, -6.1641, -6.2461, -6.2815, -6.1507, -6.0126, -6.2592, -6.402, -6.5272, -6.5101, -6.5592, -6.5736, -6.5944, -6.5884, -6.5421, -6.6249, -6.6582, -6.6529, -6.1784, -6.7153, -6.7424, -6.7052, -6.6803, -6.7644, -6.7719, -6.0345, -6.7111, -6.7813, -6.4547, -6.2601, -6.5733, -6.301, -6.4126, -6.582, -5.9356, -6.1843, -5.7167, -6.5255, -6.4151, -6.1985, -6.0554, -5.6387, -6.2878, -6.1076, -6.1845, -6.016, -5.5895, -5.6885, -6.0528, -5.8125, -5.9817, -5.9549, -6.0056, -6.1482, -6.1834, -6.2312, -6.2598, -6.1183, -6.071, -6.2996, -6.2503, -6.351, -6.3839, -6.3835, -6.0717, -6.4728, -6.473, -6.0184, -6.3756, -6.5393, -6.5301, -6.5777, -6.5252, -6.467, -6.4706, -6.1687, -6.3599, -6.0095, -6.655, -6.4402, -6.6743, -6.7158, -6.7112, -6.7346, -6.6903, -6.6047, -6.7493, -6.6668, -6.4211, -6.3242, -5.9858, -6.2387, -6.6048, -6.1805, -6.1278, -6.0272, -5.7838, -6.3402, -6.211, -5.9204, -6.0788, -6.1879, -6.0712, -6.0817, -6.2314, -6.2196, -6.2, -5.9426, -5.9717, -6.0562, -6.2354, -6.2278, -6.2304, -6.2018, -6.273, -6.268], \"loglift\": [30.0, 29.0, 28.0, 27.0, 26.0, 25.0, 24.0, 23.0, 22.0, 21.0, 20.0, 19.0, 18.0, 17.0, 16.0, 15.0, 14.0, 13.0, 12.0, 11.0, 10.0, 9.0, 8.0, 7.0, 6.0, 5.0, 4.0, 3.0, 2.0, 1.0, 1.4976, 1.4967, 1.4958, 1.493, 1.4885, 1.4881, 1.488, 1.4864, 1.4862, 1.485, 1.4841, 1.484, 1.4827, 1.4817, 1.4817, 1.4812, 1.4807, 1.48, 1.48, 1.4767, 1.4756, 1.4749, 1.4743, 1.4714, 1.4714, 1.4706, 1.4692, 1.4692, 1.4685, 1.4682, 1.468, 1.4616, 1.4656, 1.445, 1.4295, 1.4581, 1.4348, 1.436, 1.4106, 1.3088, 1.3334, 1.1276, 1.3827, 1.3314, 1.1463, 1.2576, 1.3864, 1.1903, 0.8978, 1.0209, 0.8785, 0.7682, 0.2161, 0.7345, 0.297, 0.8987, 0.9087, 1.031, 0.4482, 0.7249, 0.6102, 0.5834, 0.2626, 0.4684, 0.003, 0.2708, 0.7066, 0.7787, 0.7188, 0.6477, 1.5818, 1.5793, 1.5775, 1.5745, 1.574, 1.5716, 1.5701, 1.5689, 1.5688, 1.5682, 1.5642, 1.5637, 1.5637, 1.5629, 1.5626, 1.5606, 1.5587, 1.5585, 1.5574, 1.5567, 1.5557, 1.5557, 1.5547, 1.5542, 1.5542, 1.5539, 1.5529, 1.5517, 1.5515, 1.5498, 1.5358, 1.5371, 1.5001, 1.4601, 1.5372, 1.4276, 1.1788, 1.427, 1.2416, 1.25, 1.019, 1.3142, 1.2941, 1.339, 1.1071, 1.0943, 0.7639, 0.586, 0.669, 0.4337, 0.4715, 0.0758, 0.1667, 1.121, -0.3015, 0.9485, 0.1091, -0.1378, 0.3467, 0.8439, 0.0517, 1.5906, 1.5892, 1.5885, 1.5741, 1.5736, 1.5723, 1.5722, 1.5719, 1.5706, 1.5699, 1.5697, 1.5692, 1.5688, 1.5684, 1.5674, 1.5667, 1.566, 1.5659, 1.562, 1.5612, 1.5593, 1.5593, 1.5592, 1.5588, 1.5584, 1.5583, 1.5582, 1.5556, 1.5545, 1.5523, 1.5507, 1.5386, 1.546, 1.5102, 1.5357, 1.499, 1.4353, 1.5163, 1.5289, 1.4664, 1.3231, 1.3665, 1.1729, 1.5002, 1.1428, 1.2963, 1.1537, 1.1857, 1.0132, 1.3624, 0.1627, 0.2734, 0.5078, 0.9745, 0.2142, 0.8338, 0.6806, 0.009, 0.2988, 0.4661, 1.6185, 1.6063, 1.6036, 1.6032, 1.6025, 1.5995, 1.5989, 1.5989, 1.5976, 1.5956, 1.5901, 1.5897, 1.589, 1.5882, 1.5874, 1.587, 1.5862, 1.5859, 1.5839, 1.5834, 1.582, 1.5803, 1.5791, 1.5789, 1.5783, 1.5773, 1.5769, 1.5768, 1.5766, 1.5763, 1.5753, 1.5693, 1.5745, 1.5686, 1.5524, 1.5665, 1.4669, 1.4953, 1.2981, 1.5334, 1.4651, 1.3077, 1.1879, 0.6736, 1.2323, 1.0113, 1.0953, 0.8583, 0.1629, 0.2613, 0.7977, 0.3635, 0.6663, 0.3272, 0.1983, 0.2452, 0.1485, 0.352, 0.2181, 1.6147, 1.6133, 1.6083, 1.6072, 1.6062, 1.6053, 1.6044, 1.6029, 1.601, 1.6007, 1.6006, 1.5993, 1.598, 1.5978, 1.5961, 1.5951, 1.5944, 1.594, 1.5936, 1.5934, 1.591, 1.5908, 1.5895, 1.5892, 1.5882, 1.5881, 1.5877, 1.5874, 1.5868, 1.5852, 1.5821, 1.569, 1.5616, 1.5159, 1.5144, 1.5697, 1.4327, 1.3962, 1.2883, 1.0826, 1.4204, 1.2963, 1.0278, 1.1607, 1.2286, 1.0235, 0.9835, 1.1974, 1.0788, 1.0164, 0.2613, 0.0504, 0.2348, 0.9308, 0.8079, 0.6199, -0.4494, 0.7086, 0.4018]}, \"token.table\": {\"Topic\": [4, 5, 3, 5, 2, 3, 4, 5, 2, 3, 4, 5, 1, 3, 1, 2, 3, 5, 2, 4, 2, 4, 5, 4, 1, 4, 2, 1, 2, 3, 5, 1, 1, 4, 2, 4, 5, 2, 3, 1, 2, 3, 4, 1, 2, 3, 5, 1, 5, 1, 3, 4, 5, 2, 4, 1, 2, 4, 5, 1, 2, 3, 4, 5, 3, 3, 4, 3, 1, 2, 2, 2, 4, 5, 1, 2, 3, 4, 5, 4, 2, 4, 2, 4, 1, 4, 1, 1, 2, 3, 4, 1, 2, 3, 4, 5, 2, 1, 5, 4, 2, 5, 3, 1, 2, 3, 5, 5, 1, 2, 3, 4, 5, 4, 1, 5, 1, 2, 3, 5, 3, 1, 1, 2, 3, 4, 5, 1, 2, 3, 4, 5, 1, 2, 3, 4, 5, 4, 5, 4, 3, 2, 2, 3, 5, 3, 5, 4, 1, 5, 3, 4, 5, 4, 5, 1, 3, 3, 4, 1, 3, 5, 5, 3, 3, 3, 5, 4, 5, 3, 4, 1, 2, 1, 2, 3, 4, 5, 2, 3, 1, 2, 3, 4, 5, 1, 4, 1, 2, 1, 2, 3, 5, 4, 1, 2, 3, 4, 5, 1, 4, 1, 2, 3, 4, 5, 4, 2, 1, 3, 2, 1, 1, 2, 3, 4, 5, 5, 4, 2, 5, 1, 2, 3, 4, 5, 1, 1, 5, 1, 2, 3, 4, 1, 2, 3, 3, 2, 2, 1, 4, 1, 2, 3, 4, 5, 4, 3, 4, 5, 2, 3, 2, 4, 5, 2, 4, 5, 3, 1, 2, 3, 4, 5, 1, 2, 1, 2, 3, 4, 5, 1, 2, 1, 5, 3, 4, 1, 2, 3, 4, 2, 1, 2, 3, 4, 5, 2, 4, 5, 4, 5, 3, 5, 2, 4, 3, 2, 3, 4, 1, 2, 5, 1, 3, 4, 3, 5, 1, 3, 4, 5, 1, 2, 3, 4, 5, 5, 4, 5, 1, 2, 3, 5, 1, 2, 2, 4, 1, 5, 2, 2, 4, 1, 2, 3, 4, 5, 1, 4, 2, 3, 4, 4, 1, 2, 3, 4, 5, 2, 1, 2, 3, 4, 5, 1, 2, 3, 4, 2, 3, 4, 1, 2, 3, 4, 5, 2, 4, 5, 2, 4, 2, 5, 4, 1, 2, 4, 2, 3, 2, 1, 1, 2, 3, 4, 5, 1, 2, 1, 4, 3, 4, 1, 2, 3, 4, 5, 3, 1, 2, 3, 5, 2, 5, 1, 2, 3, 4, 5, 1, 4, 1, 3, 1, 2, 3, 4, 5, 5, 1, 1, 2, 4, 5, 5, 3, 4, 1, 1, 2, 3, 5, 1, 3, 1, 4, 5, 2, 3, 1, 2, 3, 1, 2, 3, 4, 5, 1, 3, 1, 4, 2, 5, 1, 3, 4, 5, 3, 1, 2, 3, 5, 1, 2, 3, 4, 5, 3, 2, 1, 3, 5, 2, 3, 4, 5, 3, 5, 1, 2, 3, 4, 5, 5, 3, 5, 4, 5, 4, 1, 2, 3, 2, 1, 1, 4, 1, 2, 3, 4, 5, 5, 5, 4, 2, 3, 5, 5, 2, 3, 1, 4, 1, 5, 3, 4, 5, 2, 4, 1, 3, 2, 1, 3, 4, 5, 3, 4, 2, 3, 3, 1, 1, 1, 2, 3, 5, 1, 2, 3, 4, 5, 5, 2, 1, 3, 5, 5, 2, 1, 2, 3, 4, 5, 3, 5, 2, 4, 1, 3, 5, 1, 3, 1, 1, 2, 3, 4, 5, 1, 2, 3, 4, 1, 2, 3, 5, 3, 3], \"Freq\": [0.9370852299747081, 0.9081011952545686, 0.9192294282774355, 0.06128196188516236, 0.29117932488798304, 0.6447542193948196, 0.041597046412569005, 0.020798523206284503, 0.037037094882611254, 0.07407418976522251, 0.8518531823000589, 0.07407418976522251, 0.980278800194111, 0.9525877980632736, 0.15022569038930925, 0.03755642259732731, 0.15022569038930925, 0.6384591841545644, 0.8967285734831805, 0.09439248141928215, 0.9566503477968643, 0.9535865352549276, 0.052977029736384865, 0.968614492896369, 0.954257554865086, 0.962569880531581, 0.9260616941299014, 0.03148528378807187, 0.25188227030457494, 0.6611909595495091, 0.03148528378807187, 0.9026439554309231, 0.04563719044652818, 0.9583809993770916, 0.17595391767279947, 0.7038156706911979, 0.10054509581302826, 0.9281368530476615, 0.9332689030677618, 0.9394522950602076, 0.08804027099108379, 0.9097494669078658, 0.9453992128821246, 0.17780984458735194, 0.42674362700964463, 0.17780984458735194, 0.21337181350482232, 0.959553643954489, 0.9179989611252574, 0.5393504493418526, 0.17978348311395087, 0.025683354730564413, 0.2568335473056441, 0.9275667255427413, 0.9183303987105493, 0.2336318024490291, 0.06675194355686545, 0.1335038871137309, 0.5673915202333564, 0.46278599379078955, 0.13883579813723687, 0.11569649844769739, 0.0925571987581579, 0.16197509782677633, 0.9815938610315349, 0.7263149928164888, 0.2542102474857711, 0.8998958443883183, 0.38039832888911085, 0.5852281982909397, 0.9846852552332146, 0.28165815441495606, 0.12999607126844126, 0.5633163088299121, 0.16505548743058873, 0.3047178229487792, 0.1523589114743896, 0.2285383672115844, 0.1523589114743896, 0.9378402308047525, 0.06500501947379266, 0.9100702726330971, 0.9617970730005221, 0.936442518536683, 0.9287018841937501, 0.9835848345812586, 0.9204456205703939, 0.3269872616548305, 0.10899575388494351, 0.3088213026740066, 0.23615746675071092, 0.16294704187778805, 0.23898899475408913, 0.249852130879275, 0.2824415392548326, 0.07604195287630108, 0.9434130760053168, 0.18290352522264713, 0.823065863501912, 0.9046649913057104, 0.8097139735816208, 0.13495232893027012, 0.9016474381412343, 0.1945119416212673, 0.3647098905398762, 0.024313992702658414, 0.3890238832425346, 0.9822362071647439, 0.41558753622368055, 0.16623501448947223, 0.1454556376782882, 0.04155875362236806, 0.2285731449230243, 0.9334075566906682, 0.05307300784695503, 0.9553141412451907, 0.45396438727351207, 0.1776382384983308, 0.11842549233222054, 0.2565885667198112, 0.9749984398237462, 0.9890373956305751, 0.280335362166822, 0.20720439812330319, 0.07313096404351878, 0.18282741010879694, 0.24376988014506257, 0.13501936134717757, 0.3645522756373794, 0.21603097815548408, 0.2430348504249196, 0.05400774453887102, 0.6718252564461804, 0.09597503663516863, 0.07997919719597386, 0.14396255495275295, 0.9775071962866498, 0.9712371256066449, 0.9818213850556944, 0.9687853460908495, 0.9362770911511888, 0.9248370088724622, 0.6106800036956253, 0.07184470631713238, 0.28737882526852954, 0.9303620796819871, 0.9334858813389757, 0.9585214362523522, 0.045986675965977664, 0.9657201952855309, 0.9695366292264234, 0.9670194776868547, 0.9468110517348792, 0.20911559793396056, 0.7946392721490501, 0.8916979478880244, 0.09386294188294993, 0.9410059112078406, 0.9368300412073512, 0.9649875122909528, 0.9865607426942172, 0.9709167863393539, 0.9420780192334439, 0.9613625620083633, 0.9750561914103623, 0.060050236251090475, 0.9007535437663571, 0.04514889821072415, 0.9481268624252072, 0.93340670738277, 0.9142081315849683, 0.9875964834099529, 0.9762463964692928, 0.11772932556764992, 0.3237556453110373, 0.23545865113529985, 0.16187782265551864, 0.16187782265551864, 0.6940549133971613, 0.30846885039873834, 0.4338596864407224, 0.16527988054884662, 0.1446198954802408, 0.08263994027442331, 0.18593986561745246, 0.7613342443732609, 0.22840027331197826, 0.9259059051335752, 0.9707892550744858, 0.07930394520378253, 0.21147718721008674, 0.1850425388088259, 0.5022583196239561, 0.9496862239135435, 0.257215303085305, 0.0714486953014736, 0.32866399838677857, 0.17147686872353665, 0.17147686872353665, 0.8459256056156628, 0.11279008074875503, 0.43474160982301185, 0.06521124147345178, 0.13042248294690356, 0.08694832196460237, 0.2825820463849577, 0.9284950375687735, 0.9423136550585752, 0.5235889003458334, 0.44879048601071436, 0.9326210597547047, 0.9302400466034665, 0.39019463105557306, 0.12415283715404597, 0.15962507634091624, 0.17736119593435137, 0.15962507634091624, 0.9611516993828779, 0.9563220562176175, 0.5926261681793366, 0.3852070093165687, 0.34036707318784754, 0.20945666042329078, 0.20945666042329078, 0.11781937148810107, 0.13091041276455676, 0.9489605542507804, 0.9762678438693879, 0.9406740815740219, 0.32758184752930525, 0.10919394917643509, 0.08735515934114807, 0.4586145865410274, 0.9306335510169944, 0.8612616330707002, 0.13780186129131206, 0.9255818698350475, 0.9420816866040511, 0.9727981402267489, 0.9773804115737281, 0.9541136559704966, 0.08708365673174624, 0.139333850770794, 0.22641750750254022, 0.38316808961968346, 0.17416731346349248, 0.9840331414996748, 0.3978701093523272, 0.2722269169252765, 0.3141079810676267, 0.05351012680518548, 0.9096721556881531, 0.16451694873433056, 0.12338771155074793, 0.699197032120905, 0.5065867653514955, 0.26819299342138, 0.2085945504388511, 0.948250150217947, 0.09960029422957328, 0.17430051490175325, 0.17430051490175325, 0.38595114013959647, 0.16185047812305658, 0.8791978915290286, 0.09768865461433651, 0.20530672740644273, 0.1796433864806374, 0.07699002277741603, 0.07699002277741603, 0.4362767957386908, 0.927991918120291, 0.972705582725209, 0.9232374990509071, 0.91234269694592, 0.7645419664746799, 0.19113549161866997, 0.3526043381991924, 0.1469184742496635, 0.2644532536493943, 0.23506955879946162, 0.9378422135568079, 0.14620970868672636, 0.058483883474690544, 0.029241941737345272, 0.29241941737345273, 0.49711300953486964, 0.25174070516508285, 0.12587035258254142, 0.6293517629127071, 0.8975884497878219, 0.9675014553583927, 0.925331083653838, 0.0462665541826919, 0.9378437223317041, 0.9433549838342126, 0.9860285268665353, 0.746146148182723, 0.04145256378792905, 0.20726281893964527, 0.07605008002502779, 0.2661752800875973, 0.6464256802127362, 0.09736465714526325, 0.8762819143073692, 0.04868232857263163, 0.9836941281344969, 0.9311465928618796, 0.03158480466185379, 0.1895088279711227, 0.6316960932370758, 0.12633921864741515, 0.2166076977146593, 0.2166076977146593, 0.25992923725759115, 0.2512649293490048, 0.051985847451518234, 0.9421938207052836, 0.06665293587479547, 0.9331411022471366, 0.12460386948040815, 0.3916121612241399, 0.19580608061206994, 0.28480884452664723, 0.959576611536138, 0.9721433013014588, 0.9309900093400004, 0.9601223961069275, 0.9730420717822099, 0.9497419671539915, 0.9551514224412221, 0.7232050813090893, 0.25524885222673743, 0.4713219290462883, 0.033665852074734874, 0.2524938905605116, 0.2188280384857767, 0.033665852074734874, 0.9324720458515838, 0.9402284454342981, 0.6394953317450981, 0.20194589423529413, 0.15145942067647059, 0.9473445621403208, 0.3590143468279738, 0.02243839667674836, 0.5385215202419606, 0.06731519003024508, 0.02243839667674836, 0.9733053742356234, 0.2887331084522248, 0.17696545356749258, 0.19559339604828127, 0.13039559736552087, 0.20490736728867562, 0.02145273662018255, 0.3217910493027383, 0.622129361985294, 0.0429054732403651, 0.05971842844348128, 0.05971842844348128, 0.8360579982087379, 0.5232841721166481, 0.01938089526357956, 0.15504716210863648, 0.0969044763178978, 0.21318984789937515, 0.08179789770068885, 0.040898948850344424, 0.8588779258572329, 0.9749849466741531, 0.9626433645956862, 0.9355467387177395, 0.9305622887094946, 0.9589821993414376, 0.7262770119688582, 0.24209233732295274, 0.03458461961756468, 0.06009977275260581, 0.9014965912890871, 0.9465969398907869, 0.9026681693904418, 0.279267658541861, 0.13404847610009327, 0.10053635707506994, 0.23458483317516318, 0.24575553951683762, 0.9794923969719218, 0.9576442651661321, 0.24649737169048014, 0.6984092197896937, 0.9378785074925992, 0.9433161435597326, 0.2702691712850975, 0.14935927886808018, 0.23470743822126885, 0.22759509160850314, 0.12090989241701729, 0.9143082521543722, 0.1905828448771648, 0.05445224139347565, 0.2178089655739026, 0.5445224139347565, 0.8369870533417728, 0.14770359764854815, 0.16192321375420568, 0.45878243897024945, 0.08096160687710284, 0.08096160687710284, 0.21589761833894092, 0.6811601695042142, 0.31438161669425274, 0.9442566884831685, 0.954485269470846, 0.4447785528655349, 0.05337342634386419, 0.21349370537545675, 0.14232913691697116, 0.12453799480234977, 0.9323040349072514, 0.9791896756348756, 0.2116295489899531, 0.2116295489899531, 0.023514394332217012, 0.5408310696409913, 0.9190283484841606, 0.09772339827022844, 0.879510584432056, 0.9214300319941434, 0.6203629446851595, 0.12407258893703191, 0.062036294468515954, 0.18610888340554788, 0.8962023148099068, 0.059746820987327115, 0.3382257138304539, 0.12299116866561961, 0.5227124668288834, 0.9359595808264708, 0.9711565808684025, 0.15342301469788086, 0.10228200979858725, 0.7415445710397576, 0.2771670721564144, 0.1918848961082869, 0.08528217604812752, 0.10660272006015939, 0.36244924820454194, 0.8085426823376031, 0.16170853646752062, 0.7935421346481671, 0.1813810593481525, 0.9694099741662406, 0.9266837806226602, 0.18735040007652423, 0.6155798859657224, 0.13382171434037446, 0.05352868573614978, 0.9831356913563218, 0.830068671972166, 0.1660137343944332, 0.27161497738801627, 0.7129893156435427, 0.22951870200957566, 0.21743877032486114, 0.1449591802165741, 0.2657584970637192, 0.1328792485318596, 0.932314427291517, 0.9351005737636229, 0.9858240151940061, 0.8349070235326673, 0.1461087291182168, 0.13945018124946915, 0.2789003624989383, 0.5299106887479827, 0.05578007249978766, 0.7768689230638659, 0.19421723076596648, 0.23339390593396336, 0.1458711912087271, 0.5251362883514176, 0.05834847648349084, 0.02917423824174542, 0.9793428286152065, 0.9897032415448414, 0.92914131005141, 0.6665294057869716, 0.3332647028934858, 0.948743749733783, 0.9416203332817771, 0.03246966666488887, 0.9265919754832173, 0.9729892647334127, 0.9380209954086195, 0.9186136941152006, 0.9770219755895615, 0.24486019896431885, 0.1469161193785913, 0.26118421222860677, 0.2775082254928947, 0.06529605305715169, 0.9340736164321269, 0.9782289775710288, 0.9838303843849794, 0.9748654531293366, 0.9731282021497821, 0.9723831283173976, 0.911121550427209, 0.055139104082207166, 0.8822256653153147, 0.9189316201302195, 0.057433226258138716, 0.8511012076020131, 0.10012955383553096, 0.07140741817453215, 0.928296436268918, 0.9637489684677555, 0.3931202731166642, 0.5896804096749962, 0.9337945874068289, 0.9629131651763994, 0.931233188098749, 0.5906232064733042, 0.14174956955359302, 0.09449971303572867, 0.1653744978125252, 0.8890433291156933, 0.06350309493683523, 0.7513385970493215, 0.18783464926233037, 0.9794678173579511, 0.9737921845179679, 0.9135058848399282, 0.5369384528605637, 0.1905265477892323, 0.06928238101426629, 0.2078471430427989, 0.0918666948990052, 0.5512001693940312, 0.0918666948990052, 0.10717781071550607, 0.15311115816500867, 0.96178056209612, 0.9711059828183518, 0.05298614596852348, 0.15895843790557043, 0.7947921895278521, 0.963691298683756, 0.9467937065361682, 0.39378151493958197, 0.15408841888940164, 0.1369674834572459, 0.10272561259293443, 0.2225721606180246, 0.10517296798840267, 0.8939702279014227, 0.056761042186290474, 0.9081766749806476, 0.07710355066874043, 0.8995414244686384, 0.02570118355624681, 0.8793755062936347, 0.05862503375290898, 0.9735126348712977, 0.0642292124405516, 0.28903145598248225, 0.22480224354193062, 0.17663033421151692, 0.2569168497622064, 0.25590601950774566, 0.1492785113795183, 0.1492785113795183, 0.4265100325129095, 0.08662567533515464, 0.6930054026812371, 0.057750450223436424, 0.17325135067030928, 0.9423557321453657, 0.9410723599943401], \"Term\": [\"2014\", \"3\", \"90\", \"90\", \"abc\", \"abc\", \"abc\", \"abc\", \"action\", \"action\", \"action\", \"action\", \"ad\", \"africa\", \"ahead\", \"ahead\", \"ahead\", \"ahead\", \"aid\", \"aid\", \"aim\", \"airport\", \"airport\", \"alleg\", \"ambul\", \"angri\", \"anoth\", \"appeal\", \"appeal\", \"appeal\", \"appeal\", \"appoint\", \"approv\", \"approv\", \"arrest\", \"arrest\", \"arrest\", \"arriv\", \"ash\", \"ask\", \"assault\", \"assault\", \"asylum\", \"australia\", \"australia\", \"australia\", \"australia\", \"author\", \"await\", \"ban\", \"ban\", \"ban\", \"ban\", \"bay\", \"beatti\", \"begin\", \"begin\", \"begin\", \"begin\", \"boost\", \"boost\", \"boost\", \"boost\", \"boost\", \"boy\", \"brisban\", \"brisban\", \"brother\", \"budget\", \"budget\", \"bulldog\", \"busi\", \"busi\", \"busi\", \"call\", \"call\", \"call\", \"call\", \"call\", \"campbel\", \"cancer\", \"cancer\", \"candid\", \"cash\", \"cat\", \"celebr\", \"chanc\", \"chang\", \"chang\", \"chang\", \"chang\", \"charg\", \"charg\", \"charg\", \"charg\", \"charg\", \"chines\", \"clash\", \"clash\", \"class\", \"coal\", \"coal\", \"coalit\", \"coast\", \"coast\", \"coast\", \"coast\", \"collaps\", \"concern\", \"concern\", \"concern\", \"concern\", \"concern\", \"condit\", \"confid\", \"confid\", \"continu\", \"continu\", \"continu\", \"continu\", \"control\", \"convict\", \"council\", \"council\", \"council\", \"council\", \"council\", \"court\", \"court\", \"court\", \"court\", \"court\", \"crash\", \"crash\", \"crash\", \"crash\", \"crew\", \"crisi\", \"critic\", \"criticis\", \"cross\", \"cruis\", \"cup\", \"cup\", \"cup\", \"dairi\", \"dam\", \"darwin\", \"defenc\", \"defenc\", \"destroy\", \"disput\", \"docker\", \"doctor\", \"doctor\", \"doubt\", \"doubt\", \"drink\", \"drown\", \"drum\", \"earli\", \"eas\", \"econom\", \"edg\", \"educ\", \"emerg\", \"emerg\", \"escap\", \"escap\", \"evid\", \"expert\", \"explor\", \"export\", \"face\", \"face\", \"face\", \"face\", \"face\", \"fall\", \"fall\", \"farmer\", \"farmer\", \"farmer\", \"farmer\", \"farmer\", \"fatal\", \"fatal\", \"figur\", \"fiji\", \"final\", \"final\", \"final\", \"final\", \"finish\", \"fire\", \"fire\", \"fire\", \"fire\", \"fire\", \"flight\", \"flight\", \"flood\", \"flood\", \"flood\", \"flood\", \"flood\", \"forest\", \"form\", \"found\", \"found\", \"front\", \"fuel\", \"fund\", \"fund\", \"fund\", \"fund\", \"fund\", \"gain\", \"gener\", \"gold\", \"gold\", \"govt\", \"govt\", \"govt\", \"govt\", \"govt\", \"gp\", \"grain\", \"grand\", \"group\", \"group\", \"group\", \"group\", \"grower\", \"guilti\", \"guilti\", \"hawk\", \"held\", \"higher\", \"hill\", \"histori\", \"hit\", \"hit\", \"hit\", \"hit\", \"hit\", \"holiday\", \"home\", \"home\", \"home\", \"howard\", \"howard\", \"hunter\", \"hunter\", \"hunter\", \"indigen\", \"indigen\", \"indigen\", \"insur\", \"interview\", \"interview\", \"interview\", \"interview\", \"interview\", \"issu\", \"issu\", \"job\", \"job\", \"job\", \"job\", \"job\", \"john\", \"jump\", \"kangaroo\", \"keen\", \"keep\", \"keep\", \"kill\", \"kill\", \"kill\", \"kill\", \"korea\", \"labor\", \"labor\", \"labor\", \"labor\", \"labor\", \"land\", \"land\", \"land\", \"latest\", \"level\", \"liber\", \"liber\", \"lift\", \"link\", \"lion\", \"live\", \"live\", \"live\", \"look\", \"look\", \"look\", \"lose\", \"lose\", \"lose\", \"low\", \"major\", \"make\", \"make\", \"make\", \"make\", \"man\", \"man\", \"man\", \"man\", \"man\", \"marin\", \"mark\", \"mark\", \"market\", \"market\", \"market\", \"market\", \"match\", \"media\", \"member\", \"mental\", \"merger\", \"michael\", \"militari\", \"miner\", \"miner\", \"miss\", \"miss\", \"miss\", \"miss\", \"miss\", \"mix\", \"month\", \"murder\", \"murder\", \"murder\", \"music\", \"nation\", \"nation\", \"nation\", \"nation\", \"nation\", \"neglect\", \"new\", \"new\", \"new\", \"new\", \"new\", \"news\", \"news\", \"news\", \"news\", \"nrl\", \"nrl\", \"nrl\", \"nsw\", \"nsw\", \"nsw\", \"nsw\", \"nsw\", \"offer\", \"offer\", \"offer\", \"oil\", \"option\", \"packag\", \"pair\", \"palestinian\", \"park\", \"park\", \"park\", \"parti\", \"parti\", \"phone\", \"pilbara\", \"plan\", \"plan\", \"plan\", \"plan\", \"plan\", \"plane\", \"plead\", \"png\", \"png\", \"podcast\", \"point\", \"polic\", \"polic\", \"polic\", \"polic\", \"polic\", \"policeman\", \"power\", \"power\", \"power\", \"power\", \"pressur\", \"pressur\", \"price\", \"price\", \"price\", \"price\", \"price\", \"probe\", \"probe\", \"problem\", \"prompt\", \"qld\", \"qld\", \"qld\", \"qld\", \"qld\", \"quarter\", \"rape\", \"rate\", \"rate\", \"rate\", \"rate\", \"reach\", \"readi\", \"readi\", \"refus\", \"region\", \"region\", \"region\", \"region\", \"remain\", \"remain\", \"resid\", \"resid\", \"resid\", \"result\", \"revamp\", \"review\", \"review\", \"review\", \"rise\", \"rise\", \"rise\", \"rise\", \"rise\", \"river\", \"river\", \"road\", \"road\", \"roar\", \"robberi\", \"rural\", \"rural\", \"rural\", \"rural\", \"safe\", \"safeti\", \"safeti\", \"sale\", \"sale\", \"say\", \"say\", \"say\", \"say\", \"say\", \"scam\", \"scientist\", \"se\", \"second\", \"second\", \"seek\", \"seek\", \"seek\", \"seek\", \"senat\", \"senat\", \"sex\", \"sex\", \"sex\", \"sex\", \"sex\", \"slam\", \"sport\", \"spring\", \"stand\", \"stand\", \"start\", \"state\", \"state\", \"step\", \"stock\", \"survey\", \"survivor\", \"suspend\", \"take\", \"take\", \"take\", \"take\", \"take\", \"tasmania\", \"term\", \"territori\", \"theft\", \"third\", \"tiger\", \"tip\", \"titl\", \"titl\", \"toll\", \"toll\", \"tourism\", \"tourism\", \"town\", \"town\", \"traffic\", \"train\", \"train\", \"transport\", \"tri\", \"troop\", \"two\", \"two\", \"two\", \"two\", \"uk\", \"uk\", \"un\", \"un\", \"uni\", \"unit\", \"updat\", \"urg\", \"urg\", \"urg\", \"urg\", \"us\", \"us\", \"us\", \"us\", \"us\", \"victoria\", \"video\", \"violenc\", \"violenc\", \"violenc\", \"vow\", \"wait\", \"warn\", \"warn\", \"warn\", \"warn\", \"warn\", \"wast\", \"wast\", \"way\", \"way\", \"weather\", \"weather\", \"weather\", \"western\", \"western\", \"wild\", \"win\", \"win\", \"win\", \"win\", \"win\", \"woman\", \"woman\", \"woman\", \"woman\", \"world\", \"world\", \"world\", \"world\", \"worri\", \"zealand\"]}, \"R\": 30, \"lambda.step\": 0.01, \"plot.opts\": {\"xlab\": \"PC1\", \"ylab\": \"PC2\"}, \"topic.order\": [5, 1, 3, 4, 2]};\n",
       "\n",
       "function LDAvis_load_lib(url, callback){\n",
       "  var s = document.createElement('script');\n",
       "  s.src = url;\n",
       "  s.async = true;\n",
       "  s.onreadystatechange = s.onload = callback;\n",
       "  s.onerror = function(){console.warn(\"failed to load library \" + url);};\n",
       "  document.getElementsByTagName(\"head\")[0].appendChild(s);\n",
       "}\n",
       "\n",
       "if(typeof(LDAvis) !== \"undefined\"){\n",
       "   // already loaded: just create the visualization\n",
       "   !function(LDAvis){\n",
       "       new LDAvis(\"#\" + \"ldavis_el9201396328640332809777977821\", ldavis_el9201396328640332809777977821_data);\n",
       "   }(LDAvis);\n",
       "}else if(typeof define === \"function\" && define.amd){\n",
       "   // require.js is available: use it to load d3/LDAvis\n",
       "   require.config({paths: {d3: \"https://d3js.org/d3.v5\"}});\n",
       "   require([\"d3\"], function(d3){\n",
       "      window.d3 = d3;\n",
       "      LDAvis_load_lib(\"https://cdn.jsdelivr.net/gh/bmabey/pyLDAvis@3.4.0/pyLDAvis/js/ldavis.v3.0.0.js\", function(){\n",
       "        new LDAvis(\"#\" + \"ldavis_el9201396328640332809777977821\", ldavis_el9201396328640332809777977821_data);\n",
       "      });\n",
       "    });\n",
       "}else{\n",
       "    // require.js not available: dynamically load d3 & LDAvis\n",
       "    LDAvis_load_lib(\"https://d3js.org/d3.v5.js\", function(){\n",
       "         LDAvis_load_lib(\"https://cdn.jsdelivr.net/gh/bmabey/pyLDAvis@3.4.0/pyLDAvis/js/ldavis.v3.0.0.js\", function(){\n",
       "                 new LDAvis(\"#\" + \"ldavis_el9201396328640332809777977821\", ldavis_el9201396328640332809777977821_data);\n",
       "            })\n",
       "         });\n",
       "}\n",
       "</script>"
      ],
      "text/plain": [
       "PreparedData(topic_coordinates=              x         y  topics  cluster       Freq\n",
       "topic                                                \n",
       "4      0.035769 -0.101857       1        1  21.627088\n",
       "0     -0.063514  0.167715       2        1  19.928020\n",
       "2      0.160324  0.046724       3        1  19.826303\n",
       "3     -0.002598 -0.061461       4        1  19.388747\n",
       "1     -0.129982 -0.051121       5        1  19.229843, topic_info=         Term       Freq       Total Category  logprob  loglift\n",
       "2220   second  47.000000   47.000000  Default  30.0000  30.0000\n",
       "391   weather  38.000000   38.000000  Default  29.0000  29.0000\n",
       "1799    alleg  29.000000   29.000000  Default  28.0000  28.0000\n",
       "1868       90  32.000000   32.000000  Default  27.0000  27.0000\n",
       "86    assault  34.000000   34.000000  Default  26.0000  26.0000\n",
       "...       ...        ...         ...      ...      ...      ...\n",
       "287       job  16.807968   38.966088   Topic5  -6.2278   0.8079\n",
       "444      rise  16.763928   46.903118   Topic5  -6.2304   0.6199\n",
       "186     polic  17.249363  140.600572   Topic5  -6.2018  -0.4494\n",
       "606     coast  16.065031   41.128580   Topic5  -6.2730   0.7086\n",
       "339    market  16.144984   56.178031   Topic5  -6.2680   0.4018\n",
       "\n",
       "[339 rows x 6 columns], token_table=      Topic      Freq     Term\n",
       "term                          \n",
       "449       4  0.937085     2014\n",
       "3816      5  0.908101        3\n",
       "1868      3  0.919229       90\n",
       "1868      5  0.061282       90\n",
       "502       2  0.291179      abc\n",
       "...     ...       ...      ...\n",
       "152       2  0.693005    world\n",
       "152       3  0.057750    world\n",
       "152       5  0.173251    world\n",
       "2726      3  0.942356    worri\n",
       "3600      3  0.941072  zealand\n",
       "\n",
       "[580 rows x 3 columns], R=30, lambda_step=0.01, plot_opts={'xlab': 'PC1', 'ylab': 'PC2'}, topic_order=[5, 1, 3, 4, 2])"
      ]
     },
     "execution_count": 21,
     "metadata": {},
     "output_type": "execute_result"
    }
   ],
   "source": [
    "# TODO: show visualization results of the LDA\n",
    "import pyLDAvis\n",
    "import pyLDAvis.gensim_models\n",
    "pyLDAvis.enable_notebook()\n",
    "vis = pyLDAvis.gensim_models.prepare(lda, tfidf, dic)\n",
    "vis"
   ]
  },
  {
   "cell_type": "markdown",
   "metadata": {},
   "source": [
    "Depending on your results, you can try to fine tune the algorithm: number of topics, hyperparameters...\n",
    "And check with others their results."
   ]
  }
 ],
 "metadata": {
  "kernelspec": {
   "display_name": "anaconda-panel-2023.05-py310",
   "language": "python",
   "name": "conda-env-anaconda-panel-2023.05-py310-py"
  },
  "language_info": {
   "codemirror_mode": {
    "name": "ipython",
    "version": 3
   },
   "file_extension": ".py",
   "mimetype": "text/x-python",
   "name": "python",
   "nbconvert_exporter": "python",
   "pygments_lexer": "ipython3",
   "version": "3.11.5"
  },
  "toc": {
   "base_numbering": 1,
   "nav_menu": {},
   "number_sections": true,
   "sideBar": true,
   "skip_h1_title": false,
   "title_cell": "Table of Contents",
   "title_sidebar": "Contents",
   "toc_cell": false,
   "toc_position": {},
   "toc_section_display": true,
   "toc_window_display": false
  }
 },
 "nbformat": 4,
 "nbformat_minor": 4
}
