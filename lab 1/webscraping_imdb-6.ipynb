{
 "cells": [
  {
   "cell_type": "code",
   "execution_count": 69,
   "metadata": {
    "colab": {
     "base_uri": "https://localhost:8080/",
     "height": 105
    },
    "executionInfo": {
     "elapsed": 290,
     "status": "error",
     "timestamp": 1709470131849,
     "user": {
      "displayName": "Minh Hiếu Nguyễn",
      "userId": "03728514655365313772"
     },
     "user_tz": -600
    },
    "id": "P8t19yNDV_DG",
    "outputId": "ea1d882b-238d-4853-889d-d40a47728e0c"
   },
   "outputs": [],
   "source": [
    "# Write a Python script to download IMDB 250 Top Rated Movies.\n",
    "# For each movie, you'll need to retrieve the movie title, the ranking, the initial release year, and\n",
    "# the rating.\n",
    "# Your data must be stored in a proper imdb_top_250.csv file.\n",
    "\n",
    "import requests, csv, re\n",
    "from bs4 import BeautifulSoup\n",
    "\n",
    "def get_movies(url):\n",
    "    response = requests.get(url, headers={'User-Agent': 'Mozilla/5.0'})\n",
    "    soup_imdb = BeautifulSoup(response.text)\n",
    "\n",
    "    all_movies = soup_imdb.find_all(\"li\", {\"class\":\"ipc-metadata-list-summary-item\"})\n",
    "    #get title:\n",
    "    titles = [re.sub(r'^[^ ]+ ', '', movie.find(\"h3\", class_=\"ipc-title__text\").text) for movie in all_movies]\n",
    "    print(titles)\n",
    "    # get ranking :\n",
    "    rankings = [re.sub(r'\\..*', '', movie.find(\"h3\", class_=\"ipc-title__text\").text) for movie in all_movies]\n",
    "    print(rankings)\n",
    "    # get release year :\n",
    "    years = [movie.find(\"span\", class_=\"sc-be6f1408-8 fcCUPU cli-title-metadata-item\").text for movie in all_movies]\n",
    "    print(years)\n",
    "    # get rating :\n",
    "    ratings = [movie.find(\"span\", class_=\"ipc-rating-star ipc-rating-star--base ipc-rating-star--imdb ratingGroup--imdb-rating\").text[:3] for movie in all_movies]\n",
    "    print(ratings)\n",
    "    mega_list = list(zip(titles, rankings, years, ratings))\n",
    "    mega_list = [list(elt) for elt in mega_list]\n",
    "\n",
    "    # Write csv\n",
    "    str_lst = [f\"{mega_list[i][1]} / {mega_list[i][0]} ({mega_list[i][2]}) / Starring: {mega_list[i][3]}\" \\\n",
    "    for i, val in enumerate(mega_list)]\n",
    "\n",
    "    res = [elt.split(\"/\") for elt in str_lst]\n",
    "\n",
    "    with open(\"imdb_top_250.csv\", \"w\") as f:\n",
    "        writer = csv.writer(f, delimiter=\"-\")\n",
    "        writer.writerows(res)"
   ]
  },
  {
   "cell_type": "code",
   "execution_count": 70,
   "metadata": {
    "colab": {
     "base_uri": "https://localhost:8080/",
     "height": 292
    },
    "executionInfo": {
     "elapsed": 378,
     "status": "error",
     "timestamp": 1709470132510,
     "user": {
      "displayName": "Minh Hiếu Nguyễn",
      "userId": "03728514655365313772"
     },
     "user_tz": -600
    },
    "id": "8276EKY2V_DJ",
    "outputId": "5c43c757-c060-4013-d1c9-3ef71743e36b"
   },
   "outputs": [
    {
     "name": "stdout",
     "output_type": "stream",
     "text": [
      "['The Shawshank Redemption', 'The Godfather', 'The Dark Knight', 'The Godfather: Part II', '12 Angry Men', \"Schindler's List\", 'The Lord of the Rings: The Return of the King', 'Pulp Fiction', 'The Lord of the Rings: The Fellowship of the Ring', 'Dune: Part Two', 'The Good, the Bad and the Ugly', 'Forrest Gump', 'The Lord of the Rings: The Two Towers', 'Fight Club', 'Inception', 'Star Wars: Episode V - The Empire Strikes Back', 'The Matrix', 'GoodFellas', \"One Flew Over the Cuckoo's Nest\", 'Se7en', \"It's a Wonderful Life\", 'Interstellar', 'Seven Samurai', 'The Silence of the Lambs', 'Saving Private Ryan', 'City of God', 'Life Is Beautiful', 'The Green Mile', 'Terminator 2: Judgment Day', 'Star Wars: Episode IV - A New Hope', 'Back to the Future', 'Spirited Away', 'The Pianist', 'Spider-Man: Across the Spider-Verse', 'Parasite', 'Psycho', 'Gladiator', 'The Lion King', 'Leon: The Professional', 'The Departed', 'American History X', 'Whiplash', 'The Prestige', 'Grave of the Fireflies', 'Seppuku', 'The Usual Suspects', 'Casablanca', 'The Intouchables', 'Cinema Paradiso', 'Modern Times', 'Rear Window', 'Once Upon a Time in the West', 'Alien', 'City Lights', '12th Fail', 'Apocalypse Now', 'Django Unchained', 'Memento', 'WALL·E', 'Raiders of the Lost Ark', 'The Lives of Others', 'Sunset Boulevard', 'Paths of Glory', 'Avengers: Infinity War', 'Spider-Man: Into the Spider-Verse', 'The Shining', 'Witness for the Prosecution', 'The Great Dictator', 'Aliens', 'Inglourious Basterds', 'The Dark Knight Rises', 'Dr. Strangelove or: How I Learned to Stop Worrying and Love the Bomb', 'American Beauty', 'Oldboy', 'Coco', 'Amadeus', 'Toy Story', 'Das Boot', 'Braveheart', 'Avengers: Endgame', 'Joker', 'Princess Mononoke', 'Good Will Hunting', 'Your Name.', 'Oppenheimer', 'Once Upon a Time in America', 'High and Low', '3 Idiots', \"Singin' in the Rain\", 'Capharnaüm', 'Requiem for a Dream', 'Idi i smotri', 'Toy Story 3', 'Star Wars: Episode VI - Return of the Jedi', 'Eternal Sunshine of the Spotless Mind', 'The Hunt', '2001: A Space Odyssey', 'Reservoir Dogs', 'Ikiru', 'Lawrence of Arabia', 'The Apartment', 'North by Northwest', 'Citizen Kane', 'M', 'Vertigo', 'Double Indemnity', 'Scarface', 'Incendies', 'Amelie', 'Full Metal Jacket', 'A Clockwork Orange', 'Heat', 'Up', 'To Kill a Mockingbird', 'The Sting', 'A Separation', 'Indiana Jones and the Last Crusade', 'Die Hard', 'Metropolis', 'Hamilton', 'Like Stars on Earth', 'Snatch', 'L.A. Confidential', 'Bicycle Thieves', '1917', 'Taxi Driver', 'Downfall', 'Dangal', 'For a Few Dollars More', 'Batman Begins', 'The Wolf of Wall Street', 'Some Like It Hot', 'The Kid', 'Green Book', 'The Father', 'Top Gun: Maverick', 'Judgment at Nuremberg', 'All About Eve', 'The Truman Show', 'There Will Be Blood', 'Shutter Island', 'Casino', 'Ran', 'Jurassic Park', 'The Sixth Sense', \"Pan's Labyrinth\", 'Unforgiven', 'A Beautiful Mind', 'No Country for Old Men', 'The Thing', 'The Treasure of the Sierra Madre', 'Yojimbo', 'Kill Bill: Vol. 1', 'Monty Python and the Holy Grail', 'The Great Escape', 'Finding Nemo', 'Rashomon', 'Poor Things', \"Howl's Moving Castle\", 'The Elephant Man', 'Prisoners', 'Chinatown', 'Dial M for Murder', 'Gone with the Wind', 'V for Vendetta', 'Lock, Stock and Two Smoking Barrels', 'The Secret in Their Eyes', 'Raging Bull', 'Inside Out', 'Three Billboards Outside Ebbing, Missouri', 'Trainspotting', 'The Bridge on the River Kwai', 'Spider-Man: No Way Home', 'Fargo', 'Klaus', 'Warrior', 'Catch Me If You Can', 'Godzilla Minus One', 'Gran Torino', 'My Neighbor Totoro', 'Million Dollar Baby', 'Harry Potter and the Deathly Hallows: Part 2', 'Children of Heaven', '12 Years a Slave', 'Blade Runner', 'Before Sunrise', 'The Grand Budapest Hotel', 'Ben-Hur', 'Barry Lyndon', 'Gone Girl', 'The Gold Rush', 'Hacksaw Ridge', 'In the Name of the Father', 'Memories of Murder', 'Dead Poets Society', 'On the Waterfront', 'The General', 'The Deer Hunter', 'Wild Tales', 'Mad Max: Fury Road', 'Sherlock Jr.', 'Monsters, Inc.', 'The Third Man', 'Wild Strawberries', 'The Wages of Fear', 'Jaws', 'How to Train Your Dragon', 'Mary and Max', 'Mr. Smith Goes to Washington', 'Ford v Ferrari', 'Ratatouille', 'The Seventh Seal', 'Room', 'Tokyo Story', 'The Big Lebowski', 'Rocky', 'Logan', 'Spotlight', 'Hotel Rwanda', 'Platoon', 'The Terminator', 'The Passion of Joan of Arc', 'Before Sunset', 'The Best Years of Our Lives', 'La haine', 'Jai Bhim', 'The Exorcist', 'Rush', 'Pirates of the Caribbean: The Curse of the Black Pearl', 'Network', 'Stand by Me', 'The Wizard of Oz', 'The Incredibles', \"Hachi: A Dog's Tale\", 'Into the Wild', 'The Handmaiden', 'My Father and My Son', 'To Be or Not to Be', 'The Sound of Music', 'The Grapes of Wrath', 'Groundhog Day', 'The Battle of Algiers', 'Amores perros', 'Rebecca', 'Cool Hand Luke', 'The Iron Giant', 'The Help', 'It Happened One Night', 'The 400 Blows', 'Dances with Wolves']\n",
      "['1', '2', '3', '4', '5', '6', '7', '8', '9', '10', '11', '12', '13', '14', '15', '16', '17', '18', '19', '20', '21', '22', '23', '24', '25', '26', '27', '28', '29', '30', '31', '32', '33', '34', '35', '36', '37', '38', '39', '40', '41', '42', '43', '44', '45', '46', '47', '48', '49', '50', '51', '52', '53', '54', '55', '56', '57', '58', '59', '60', '61', '62', '63', '64', '65', '66', '67', '68', '69', '70', '71', '72', '73', '74', '75', '76', '77', '78', '79', '80', '81', '82', '83', '84', '85', '86', '87', '88', '89', '90', '91', '92', '93', '94', '95', '96', '97', '98', '99', '100', '101', '102', '103', '104', '105', '106', '107', '108', '109', '110', '111', '112', '113', '114', '115', '116', '117', '118', '119', '120', '121', '122', '123', '124', '125', '126', '127', '128', '129', '130', '131', '132', '133', '134', '135', '136', '137', '138', '139', '140', '141', '142', '143', '144', '145', '146', '147', '148', '149', '150', '151', '152', '153', '154', '155', '156', '157', '158', '159', '160', '161', '162', '163', '164', '165', '166', '167', '168', '169', '170', '171', '172', '173', '174', '175', '176', '177', '178', '179', '180', '181', '182', '183', '184', '185', '186', '187', '188', '189', '190', '191', '192', '193', '194', '195', '196', '197', '198', '199', '200', '201', '202', '203', '204', '205', '206', '207', '208', '209', '210', '211', '212', '213', '214', '215', '216', '217', '218', '219', '220', '221', '222', '223', '224', '225', '226', '227', '228', '229', '230', '231', '232', '233', '234', '235', '236', '237', '238', '239', '240', '241', '242', '243', '244', '245', '246', '247', '248', '249', '250']\n",
      "['1994', '1972', '2008', '1974', '1957', '1993', '2003', '1994', '2001', '2024', '1966', '1994', '2002', '1999', '2010', '1980', '1999', '1990', '1975', '1995', '1946', '2014', '1954', '1991', '1998', '2002', '1997', '1999', '1991', '1977', '1985', '2001', '2002', '2023', '2019', '1960', '2000', '1994', '1994', '2006', '1998', '2014', '2006', '1988', '1962', '1995', '1942', '2011', '1988', '1936', '1954', '1968', '1979', '1931', '2023', '1979', '2012', '2000', '2008', '1981', '2006', '1950', '1957', '2018', '2018', '1980', '1957', '1940', '1986', '2009', '2012', '1964', '1999', '2003', '2017', '1984', '1995', '1981', '1995', '2019', '2019', '1997', '1997', '2016', '2023', '1984', '1963', '2009', '1952', '2018', '2000', '1985', '2010', '1983', '2004', '2012', '1968', '1992', '1952', '1962', '1960', '1959', '1941', '1931', '1958', '1944', '1983', '2010', '2001', '1987', '1971', '1995', '2009', '1962', '1973', '2011', '1989', '1988', '1927', '2020', '2007', '2000', '1997', '1948', '2019', '1976', '2004', '2016', '1965', '2005', '2013', '1959', '1921', '2018', '2020', '2022', '1961', '1950', '1998', '2007', '2010', '1995', '1985', '1993', '1999', '2006', '1992', '2001', '2007', '1982', '1948', '1961', '2003', '1975', '1963', '2003', '1950', '2023', '2004', '1980', '2013', '1974', '1954', '1939', '2005', '1998', '2009', '1980', '2015', '2017', '1996', '1957', '2021', '1996', '2019', '2011', '2002', '2023', '2008', '1988', '2004', '2011', '1997', '2013', '1982', '1995', '2014', '1959', '1975', '2014', '1925', '2016', '1993', '2003', '1989', '1954', '1926', '1978', '2014', '2015', '1924', '2001', '1949', '1957', '1953', '1975', '2010', '2009', '1939', '2019', '2007', '1957', '2015', '1953', '1998', '1976', '2017', '2015', '2004', '1986', '1984', '1928', '2004', '1946', '1995', '2021', '1973', '2013', '2003', '1976', '1986', '1939', '2004', '2009', '2007', '2016', '2005', '1942', '1965', '1940', '1993', '1966', '2000', '1940', '1967', '1999', '2011', '1934', '1959', '1990']\n",
      "['9.3', '9.2', '9.0', '9.0', '9.0', '9.0', '9.0', '8.9', '8.9', '9.0', '8.8', '8.8', '8.8', '8.8', '8.8', '8.7', '8.7', '8.7', '8.7', '8.6', '8.6', '8.7', '8.6', '8.6', '8.6', '8.6', '8.6', '8.6', '8.6', '8.6', '8.5', '8.6', '8.5', '8.6', '8.5', '8.5', '8.5', '8.5', '8.5', '8.5', '8.5', '8.5', '8.5', '8.5', '8.6', '8.5', '8.5', '8.5', '8.5', '8.5', '8.5', '8.5', '8.5', '8.5', '9.1', '8.4', '8.5', '8.4', '8.4', '8.4', '8.4', '8.4', '8.4', '8.4', '8.4', '8.4', '8.4', '8.4', '8.4', '8.4', '8.4', '8.4', '8.3', '8.3', '8.4', '8.4', '8.3', '8.4', '8.3', '8.4', '8.4', '8.3', '8.3', '8.4', '8.4', '8.3', '8.4', '8.4', '8.3', '8.4', '8.3', '8.4', '8.3', '8.3', '8.3', '8.3', '8.3', '8.3', '8.3', '8.3', '8.3', '8.3', '8.3', '8.3', '8.3', '8.3', '8.3', '8.3', '8.3', '8.3', '8.3', '8.3', '8.3', '8.3', '8.3', '8.3', '8.2', '8.2', '8.3', '8.3', '8.3', '8.2', '8.2', '8.3', '8.2', '8.2', '8.2', '8.3', '8.2', '8.2', '8.2', '8.2', '8.2', '8.2', '8.2', '8.2', '8.3', '8.2', '8.2', '8.2', '8.2', '8.2', '8.2', '8.2', '8.2', '8.2', '8.2', '8.2', '8.2', '8.2', '8.2', '8.2', '8.2', '8.2', '8.2', '8.2', '8.2', '8.2', '8.2', '8.2', '8.1', '8.1', '8.2', '8.2', '8.2', '8.1', '8.2', '8.1', '8.1', '8.1', '8.1', '8.1', '8.2', '8.1', '8.2', '8.1', '8.1', '8.3', '8.1', '8.1', '8.1', '8.1', '8.2', '8.1', '8.1', '8.1', '8.1', '8.1', '8.1', '8.1', '8.1', '8.1', '8.1', '8.1', '8.1', '8.1', '8.1', '8.1', '8.1', '8.1', '8.2', '8.1', '8.1', '8.1', '8.2', '8.1', '8.1', '8.1', '8.1', '8.1', '8.1', '8.1', '8.1', '8.1', '8.1', '8.1', '8.1', '8.1', '8.1', '8.1', '8.1', '8.1', '8.1', '8.1', '8.1', '8.7', '8.1', '8.1', '8.1', '8.1', '8.1', '8.1', '8.0', '8.1', '8.1', '8.1', '8.2', '8.1', '8.1', '8.1', '8.0', '8.1', '8.1', '8.1', '8.1', '8.1', '8.1', '8.1', '8.1', '8.0']\n"
     ]
    }
   ],
   "source": [
    "def main():\n",
    "    url = \"https://www.imdb.com/chart/top\"\n",
    "    get_movies(url)\n",
    "\n",
    "\n",
    "if __name__ == \"__main__\":\n",
    "    main()"
   ]
  },
  {
   "cell_type": "code",
   "execution_count": 71,
   "metadata": {
    "id": "osftV59KV_DK"
   },
   "outputs": [
    {
     "ename": "UnicodeDecodeError",
     "evalue": "'utf-8' codec can't decode byte 0xb7 in position 2803: invalid start byte",
     "output_type": "error",
     "traceback": [
      "\u001b[1;31m---------------------------------------------------------------------------\u001b[0m",
      "\u001b[1;31mUnicodeDecodeError\u001b[0m                        Traceback (most recent call last)",
      "Cell \u001b[1;32mIn[71], line 2\u001b[0m\n\u001b[0;32m      1\u001b[0m \u001b[38;5;28;01mimport\u001b[39;00m \u001b[38;5;21;01mpandas\u001b[39;00m \u001b[38;5;28;01mas\u001b[39;00m \u001b[38;5;21;01mpd\u001b[39;00m\n\u001b[1;32m----> 2\u001b[0m df \u001b[38;5;241m=\u001b[39m pd\u001b[38;5;241m.\u001b[39mread_csv(\u001b[38;5;124m\"\u001b[39m\u001b[38;5;124mimdb_top_250.csv\u001b[39m\u001b[38;5;124m\"\u001b[39m)\n\u001b[0;32m      3\u001b[0m df\u001b[38;5;241m.\u001b[39mhead()\n",
      "File \u001b[1;32mD:\\Anaconda\\Lib\\site-packages\\pandas\\io\\parsers\\readers.py:948\u001b[0m, in \u001b[0;36mread_csv\u001b[1;34m(filepath_or_buffer, sep, delimiter, header, names, index_col, usecols, dtype, engine, converters, true_values, false_values, skipinitialspace, skiprows, skipfooter, nrows, na_values, keep_default_na, na_filter, verbose, skip_blank_lines, parse_dates, infer_datetime_format, keep_date_col, date_parser, date_format, dayfirst, cache_dates, iterator, chunksize, compression, thousands, decimal, lineterminator, quotechar, quoting, doublequote, escapechar, comment, encoding, encoding_errors, dialect, on_bad_lines, delim_whitespace, low_memory, memory_map, float_precision, storage_options, dtype_backend)\u001b[0m\n\u001b[0;32m    935\u001b[0m kwds_defaults \u001b[38;5;241m=\u001b[39m _refine_defaults_read(\n\u001b[0;32m    936\u001b[0m     dialect,\n\u001b[0;32m    937\u001b[0m     delimiter,\n\u001b[1;32m   (...)\u001b[0m\n\u001b[0;32m    944\u001b[0m     dtype_backend\u001b[38;5;241m=\u001b[39mdtype_backend,\n\u001b[0;32m    945\u001b[0m )\n\u001b[0;32m    946\u001b[0m kwds\u001b[38;5;241m.\u001b[39mupdate(kwds_defaults)\n\u001b[1;32m--> 948\u001b[0m \u001b[38;5;28;01mreturn\u001b[39;00m _read(filepath_or_buffer, kwds)\n",
      "File \u001b[1;32mD:\\Anaconda\\Lib\\site-packages\\pandas\\io\\parsers\\readers.py:611\u001b[0m, in \u001b[0;36m_read\u001b[1;34m(filepath_or_buffer, kwds)\u001b[0m\n\u001b[0;32m    608\u001b[0m _validate_names(kwds\u001b[38;5;241m.\u001b[39mget(\u001b[38;5;124m\"\u001b[39m\u001b[38;5;124mnames\u001b[39m\u001b[38;5;124m\"\u001b[39m, \u001b[38;5;28;01mNone\u001b[39;00m))\n\u001b[0;32m    610\u001b[0m \u001b[38;5;66;03m# Create the parser.\u001b[39;00m\n\u001b[1;32m--> 611\u001b[0m parser \u001b[38;5;241m=\u001b[39m TextFileReader(filepath_or_buffer, \u001b[38;5;241m*\u001b[39m\u001b[38;5;241m*\u001b[39mkwds)\n\u001b[0;32m    613\u001b[0m \u001b[38;5;28;01mif\u001b[39;00m chunksize \u001b[38;5;129;01mor\u001b[39;00m iterator:\n\u001b[0;32m    614\u001b[0m     \u001b[38;5;28;01mreturn\u001b[39;00m parser\n",
      "File \u001b[1;32mD:\\Anaconda\\Lib\\site-packages\\pandas\\io\\parsers\\readers.py:1448\u001b[0m, in \u001b[0;36mTextFileReader.__init__\u001b[1;34m(self, f, engine, **kwds)\u001b[0m\n\u001b[0;32m   1445\u001b[0m     \u001b[38;5;28mself\u001b[39m\u001b[38;5;241m.\u001b[39moptions[\u001b[38;5;124m\"\u001b[39m\u001b[38;5;124mhas_index_names\u001b[39m\u001b[38;5;124m\"\u001b[39m] \u001b[38;5;241m=\u001b[39m kwds[\u001b[38;5;124m\"\u001b[39m\u001b[38;5;124mhas_index_names\u001b[39m\u001b[38;5;124m\"\u001b[39m]\n\u001b[0;32m   1447\u001b[0m \u001b[38;5;28mself\u001b[39m\u001b[38;5;241m.\u001b[39mhandles: IOHandles \u001b[38;5;241m|\u001b[39m \u001b[38;5;28;01mNone\u001b[39;00m \u001b[38;5;241m=\u001b[39m \u001b[38;5;28;01mNone\u001b[39;00m\n\u001b[1;32m-> 1448\u001b[0m \u001b[38;5;28mself\u001b[39m\u001b[38;5;241m.\u001b[39m_engine \u001b[38;5;241m=\u001b[39m \u001b[38;5;28mself\u001b[39m\u001b[38;5;241m.\u001b[39m_make_engine(f, \u001b[38;5;28mself\u001b[39m\u001b[38;5;241m.\u001b[39mengine)\n",
      "File \u001b[1;32mD:\\Anaconda\\Lib\\site-packages\\pandas\\io\\parsers\\readers.py:1723\u001b[0m, in \u001b[0;36mTextFileReader._make_engine\u001b[1;34m(self, f, engine)\u001b[0m\n\u001b[0;32m   1720\u001b[0m     \u001b[38;5;28;01mraise\u001b[39;00m \u001b[38;5;167;01mValueError\u001b[39;00m(msg)\n\u001b[0;32m   1722\u001b[0m \u001b[38;5;28;01mtry\u001b[39;00m:\n\u001b[1;32m-> 1723\u001b[0m     \u001b[38;5;28;01mreturn\u001b[39;00m mapping[engine](f, \u001b[38;5;241m*\u001b[39m\u001b[38;5;241m*\u001b[39m\u001b[38;5;28mself\u001b[39m\u001b[38;5;241m.\u001b[39moptions)\n\u001b[0;32m   1724\u001b[0m \u001b[38;5;28;01mexcept\u001b[39;00m \u001b[38;5;167;01mException\u001b[39;00m:\n\u001b[0;32m   1725\u001b[0m     \u001b[38;5;28;01mif\u001b[39;00m \u001b[38;5;28mself\u001b[39m\u001b[38;5;241m.\u001b[39mhandles \u001b[38;5;129;01mis\u001b[39;00m \u001b[38;5;129;01mnot\u001b[39;00m \u001b[38;5;28;01mNone\u001b[39;00m:\n",
      "File \u001b[1;32mD:\\Anaconda\\Lib\\site-packages\\pandas\\io\\parsers\\c_parser_wrapper.py:93\u001b[0m, in \u001b[0;36mCParserWrapper.__init__\u001b[1;34m(self, src, **kwds)\u001b[0m\n\u001b[0;32m     90\u001b[0m \u001b[38;5;28;01mif\u001b[39;00m kwds[\u001b[38;5;124m\"\u001b[39m\u001b[38;5;124mdtype_backend\u001b[39m\u001b[38;5;124m\"\u001b[39m] \u001b[38;5;241m==\u001b[39m \u001b[38;5;124m\"\u001b[39m\u001b[38;5;124mpyarrow\u001b[39m\u001b[38;5;124m\"\u001b[39m:\n\u001b[0;32m     91\u001b[0m     \u001b[38;5;66;03m# Fail here loudly instead of in cython after reading\u001b[39;00m\n\u001b[0;32m     92\u001b[0m     import_optional_dependency(\u001b[38;5;124m\"\u001b[39m\u001b[38;5;124mpyarrow\u001b[39m\u001b[38;5;124m\"\u001b[39m)\n\u001b[1;32m---> 93\u001b[0m \u001b[38;5;28mself\u001b[39m\u001b[38;5;241m.\u001b[39m_reader \u001b[38;5;241m=\u001b[39m parsers\u001b[38;5;241m.\u001b[39mTextReader(src, \u001b[38;5;241m*\u001b[39m\u001b[38;5;241m*\u001b[39mkwds)\n\u001b[0;32m     95\u001b[0m \u001b[38;5;28mself\u001b[39m\u001b[38;5;241m.\u001b[39munnamed_cols \u001b[38;5;241m=\u001b[39m \u001b[38;5;28mself\u001b[39m\u001b[38;5;241m.\u001b[39m_reader\u001b[38;5;241m.\u001b[39munnamed_cols\n\u001b[0;32m     97\u001b[0m \u001b[38;5;66;03m# error: Cannot determine type of 'names'\u001b[39;00m\n",
      "File \u001b[1;32mparsers.pyx:579\u001b[0m, in \u001b[0;36mpandas._libs.parsers.TextReader.__cinit__\u001b[1;34m()\u001b[0m\n",
      "File \u001b[1;32mparsers.pyx:668\u001b[0m, in \u001b[0;36mpandas._libs.parsers.TextReader._get_header\u001b[1;34m()\u001b[0m\n",
      "File \u001b[1;32mparsers.pyx:879\u001b[0m, in \u001b[0;36mpandas._libs.parsers.TextReader._tokenize_rows\u001b[1;34m()\u001b[0m\n",
      "File \u001b[1;32mparsers.pyx:890\u001b[0m, in \u001b[0;36mpandas._libs.parsers.TextReader._check_tokenize_status\u001b[1;34m()\u001b[0m\n",
      "File \u001b[1;32mparsers.pyx:2050\u001b[0m, in \u001b[0;36mpandas._libs.parsers.raise_parser_error\u001b[1;34m()\u001b[0m\n",
      "\u001b[1;31mUnicodeDecodeError\u001b[0m: 'utf-8' codec can't decode byte 0xb7 in position 2803: invalid start byte"
     ]
    }
   ],
   "source": [
    "import pandas as pd\n",
    "df = pd.read_csv(\"imdb_top_250.csv\")\n",
    "df.head()\n",
    "#Read CSV and show the first 5 rows"
   ]
  },
  {
   "cell_type": "code",
   "execution_count": null,
   "metadata": {
    "id": "4lWsqTtWV_DL"
   },
   "outputs": [],
   "source": []
  }
 ],
 "metadata": {
  "colab": {
   "provenance": []
  },
  "kernelspec": {
   "display_name": "Python 3 (ipykernel)",
   "language": "python",
   "name": "python3"
  },
  "language_info": {
   "codemirror_mode": {
    "name": "ipython",
    "version": 3
   },
   "file_extension": ".py",
   "mimetype": "text/x-python",
   "name": "python",
   "nbconvert_exporter": "python",
   "pygments_lexer": "ipython3",
   "version": "3.11.7"
  }
 },
 "nbformat": 4,
 "nbformat_minor": 4
}
